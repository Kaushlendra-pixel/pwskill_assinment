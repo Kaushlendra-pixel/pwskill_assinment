{
  "nbformat": 4,
  "nbformat_minor": 0,
  "metadata": {
    "colab": {
      "provenance": []
    },
    "kernelspec": {
      "name": "python3",
      "display_name": "Python 3"
    },
    "language_info": {
      "name": "python"
    }
  },
  "cells": [
    {
      "cell_type": "markdown",
      "source": [
        "                                                                **Data Types and Structures Questions**"
      ],
      "metadata": {
        "id": "__NpksSHmZkP"
      }
    },
    {
      "cell_type": "code",
      "source": [
        "#Question1 What are data structures, and why are they important?\n",
        "\n",
        "#Answer:Data structures are organized ways to store, manage, and retrieve data efficiently, allowing easy access and modification.\n",
        "\n",
        "#Why Are They Important?\n",
        "# Enable efficient data storage and retrieval.\n",
        "# Improve algorithm performance.\n",
        "# Optimize memory usage.\n",
        "# Solve complex problems effectively.\n",
        "# Essential in real-world applications like databases, file systems, and network routing."
      ],
      "metadata": {
        "id": "XmmU5tA5mqKn"
      },
      "execution_count": null,
      "outputs": []
    },
    {
      "cell_type": "code",
      "source": [
        "#Question2  Explain the difference between mutable and immutable data types with examples?\n",
        "\n",
        "#Answer Mutable Data Types :- Mutable data types allow modification of their content after creation.\n",
        "\n",
        "#Examples: list\n",
        "my_list = [1, 2, 3]\n",
        "my_list[0] = 10\n",
        "print(my_list)\n",
        "\n",
        "# dictionary\n",
        "mmy_dict = {\"name\": \"Alice\", \"age\": 25}\n",
        "my_dict[\"age\"] = 26  # Modifying the value associated with the key 'age'\n",
        "print(my_dict)  # Output: {\"name\": \"Alice\", \"age\": 26}\n",
        "\n",
        "# Sets\n",
        "my_set = {1, 2, 3}\n",
        "my_set.add(4)  # Adding a new element to the set\n",
        "print(my_set)  # Output: {1, 2, 3, 4}"
      ],
      "metadata": {
        "colab": {
          "base_uri": "https://localhost:8080/"
        },
        "id": "x8K0fzSIn2ZP",
        "outputId": "2ea4e0c6-8b2c-4dca-9ae5-d9adfd6374d6"
      },
      "execution_count": 13,
      "outputs": [
        {
          "output_type": "stream",
          "name": "stdout",
          "text": [
            "[10, 2, 3]\n",
            "{'name': 'Kaushlendra', 'age': 26, 'country': 'INDIA'}\n",
            "{1, 2, 3, 4}\n"
          ]
        }
      ]
    },
    {
      "cell_type": "code",
      "source": [
        "# Immutable Data Types:- Immutable data types do not allow modification after creation. Any \"change\" creates a new object.\n",
        "\n",
        "# String\n",
        "my_string = \"Hello\"\n",
        "my_string[0] = \"h\"\n",
        "print(my_string)\n",
        "\n",
        "# Tuples\n",
        "my_tuple = (1, 2, 3)\n",
        "my_tuple[0] = 4\n",
        "print(my_tuple)\n",
        "\n",
        "#Frozen Sets\n",
        "my_frozenset = frozenset([1, 2, 3])\n",
        "my_frozenset.add(4)\n",
        "print(my_frozenset)\n",
        "\n"
      ],
      "metadata": {
        "colab": {
          "base_uri": "https://localhost:8080/",
          "height": 211
        },
        "id": "kj0sIctrozPQ",
        "outputId": "b6abb2ce-56ba-4277-9e36-0b1a57e871a6"
      },
      "execution_count": 12,
      "outputs": [
        {
          "output_type": "error",
          "ename": "TypeError",
          "evalue": "'str' object does not support item assignment",
          "traceback": [
            "\u001b[0;31m---------------------------------------------------------------------------\u001b[0m",
            "\u001b[0;31mTypeError\u001b[0m                                 Traceback (most recent call last)",
            "\u001b[0;32m<ipython-input-12-65adc2f94784>\u001b[0m in \u001b[0;36m<cell line: 5>\u001b[0;34m()\u001b[0m\n\u001b[1;32m      3\u001b[0m \u001b[0;31m# String\u001b[0m\u001b[0;34m\u001b[0m\u001b[0;34m\u001b[0m\u001b[0m\n\u001b[1;32m      4\u001b[0m \u001b[0mmy_string\u001b[0m \u001b[0;34m=\u001b[0m \u001b[0;34m\"Hello\"\u001b[0m\u001b[0;34m\u001b[0m\u001b[0;34m\u001b[0m\u001b[0m\n\u001b[0;32m----> 5\u001b[0;31m \u001b[0mmy_string\u001b[0m\u001b[0;34m[\u001b[0m\u001b[0;36m0\u001b[0m\u001b[0;34m]\u001b[0m \u001b[0;34m=\u001b[0m \u001b[0;34m\"h\"\u001b[0m\u001b[0;34m\u001b[0m\u001b[0;34m\u001b[0m\u001b[0m\n\u001b[0m\u001b[1;32m      6\u001b[0m \u001b[0mprint\u001b[0m\u001b[0;34m(\u001b[0m\u001b[0mmy_string\u001b[0m\u001b[0;34m)\u001b[0m\u001b[0;34m\u001b[0m\u001b[0;34m\u001b[0m\u001b[0m\n\u001b[1;32m      7\u001b[0m \u001b[0;34m\u001b[0m\u001b[0m\n",
            "\u001b[0;31mTypeError\u001b[0m: 'str' object does not support item assignment"
          ]
        }
      ]
    },
    {
      "cell_type": "code",
      "source": [
        "#Question3 What are the main differences between lists and tuples in Python?\n",
        "\n",
        "#Answer: Mutability: Lists are mutable (can be modified after creation)\n",
        "\n",
        "# Tuples are immutable (cannot be modified after creation\n",
        "\n",
        "#Syntax:\n",
        "\n",
        "# Lists are defined using square brackets [].\n",
        "\n",
        "# Tuples are defined using parentheses ().\n",
        "\n",
        "#Usage:\n",
        "\n",
        "# Lists are preferred when the data needs to be modified, sorted, or rearranged.\n",
        "\n",
        "## Tuples are preferred for fixed collections of items that shouldn't be changed, ensuring data integrity.\n",
        "\n",
        "#Performance:\n",
        "\n",
        "# Lists are slightly slower than tuples due to extra overhead from mutability.\n",
        "\n",
        "# Tuples are faster and more memory-efficient than lists.\n",
        "\n",
        "#Methods:\n",
        "\n",
        "# Lists have more built-in methods for modifications like append(), remove(), and sort().\n",
        "\n",
        "# Tuples have fewer methods, mainly for accessing elements like count() and index()."
      ],
      "metadata": {
        "id": "lVX_O7S_r9fl"
      },
      "execution_count": null,
      "outputs": []
    },
    {
      "cell_type": "code",
      "source": [
        "#Question4 Describe how dictionaries store data?\n",
        "\n",
        "#Answer: Dictionaries in Python store data as key-value pairs using a hash table mechanism. Here's explanation of how they work:\n",
        "\n",
        "# Hashing: Each key is passed through a hash function to generate a unique hash value.\n",
        "\n",
        "# Indexing: The hash value determines the index in an internal array where the key-value pair is stored.\n",
        "\n",
        "# Collision Handling: If two keys produce the same hash value (collision), a collision resolution strategy is used (like chaining or open addressing) to store both pairs."
      ],
      "metadata": {
        "id": "VztJQO15r9Hu"
      },
      "execution_count": null,
      "outputs": []
    },
    {
      "cell_type": "code",
      "source": [
        "#Question5 Why might you use a set instead of a list in Python?\n",
        "\n",
        "#Answer: you use a set instead of a list in Python when you need.\n",
        "\n",
        "# Unique Elements: Sets automatically remove duplicates, ensuring all elements are unique.\n",
        "\n",
        "# Faster Membership Testing: Checking if an item is in a set is generally faster than in a list.\n",
        "\n",
        "# Mathematical Set Operations: Sets support operations like union, intersection, and difference, which are not directly available with lists.\n",
        "\n",
        "# Unordered Collection: Sets are unordered, making them unsuitable when order matters, but ideal when you only care about uniqueness or quick lookups."
      ],
      "metadata": {
        "id": "EWQAmBUyvAgJ"
      },
      "execution_count": null,
      "outputs": []
    },
    {
      "cell_type": "code",
      "source": [
        "#Question6 What is a string in Python, and how is it different from a list?\n",
        "\n",
        "# Answer: A string in Python is a sequence of characters enclosed in quotes (' or \"). It is used to represent text. Strings are immutable, meaning their content cannot be changed after creation.\n",
        "\n",
        "# Data Type:\n",
        "\n",
        "# Strings: Sequence of characters.\n",
        "\n",
        "# Lists: Sequence of elements, which can be of any data type.\n",
        "\n",
        "# Mutability:\n",
        "\n",
        "# Strings: Immutable; cannot be changed after creation.\n",
        "\n",
        "# Lists: Mutable; can be modified after creation.\n",
        "\n",
        "# Syntax:\n",
        "\n",
        "# Strings: Defined with quotes ('abc' or \"abc\").\n",
        "\n",
        "# Lists: Defined with square brackets ([1, 2, 3]).\n",
        "\n",
        "# Operations:\n",
        "\n",
        "# Strings: Support operations like concatenation, slicing, and various string methods (e.g., upper(), lower()).\n",
        "\n",
        "# Lists: Support operations like appending, extending, slicing, and various list methods (e.g., append(), extend())."
      ],
      "metadata": {
        "id": "3XKTLGevw5UU"
      },
      "execution_count": null,
      "outputs": []
    },
    {
      "cell_type": "code",
      "source": [
        "#Question7 How do tuples ensure data integrity in Python?\n",
        "\n",
        "#Answer: Tuples ensure data integrity in Python through immutability and hashability. Immutability prevents changes to the data once created its elements cannot be changed, added, or removed hashability allows tuples to be used as keys in dictionaries and elements in sets, ensuring efficient lookups and stable data structures."
      ],
      "metadata": {
        "id": "ugQiFmcBx7w7"
      },
      "execution_count": null,
      "outputs": []
    },
    {
      "cell_type": "code",
      "source": [
        "#Question8 What is a hash table, and how does it relate to dictionaries in Python?\n",
        "\n",
        "#Answer: A hash table is a data structure that stores key-value pairs using a hash function to compute an index into an array of buckets or slots. This allows for efficient data retrieval, insertion, and deletion operations.\n",
        "\n",
        "# Relation to Python Dictionaries:\n",
        "#Dictionaries in Python are implemented using hash tables.\n",
        "\n",
        "# Keys are hashed to find their storage index.\n",
        "# Values are stored at the computed index.\n",
        "# Features: Unique keys, fast access, and automatic resizing."
      ],
      "metadata": {
        "id": "m1ecoCxYzNcL"
      },
      "execution_count": null,
      "outputs": []
    },
    {
      "cell_type": "code",
      "source": [
        "#Question9 Can lists contain different data types in Python?\n",
        "\n",
        "#ANswer: Yes, lists in Python can contain elements of different data types. A single list can hold a mixture of integers, strings, floats, other lists, or even custom objects."
      ],
      "metadata": {
        "id": "JyQlInRY0Xd0"
      },
      "execution_count": null,
      "outputs": []
    },
    {
      "cell_type": "code",
      "source": [
        "#Question10 Explain why strings are immutable in Python?\n",
        "\n",
        "#Answer: Strings in Python are immutable to ensure efficiency, enable hashing, enhance safety, and support concurrency. Immutability allows for memory optimization, consistent hash values, predictable code behavior, and thread-safe data sharing.\n"
      ],
      "metadata": {
        "id": "_V9K5BMN0rWN"
      },
      "execution_count": null,
      "outputs": []
    },
    {
      "cell_type": "code",
      "source": [
        "#Question11 What advantages do dictionaries offer over lists for certain tasks?\n",
        "\n",
        "#Answer: Dictionaries offer several advantages over lists for certain tasks:\n",
        "\n",
        "# Key-Value Pair Storage: Allows for efficient organization and retrieval of data based on unique keys.\n",
        "\n",
        "# Fast Lookups: Quick access to values using keys, thanks to the underlying hash table.\n",
        "\n",
        "# Data Relationships: Useful for representing and managing complex data relationships.\n",
        "\n",
        "# Dynamic Size: Easily handles dynamic and varying data sizes without reordering."
      ],
      "metadata": {
        "id": "uGVynSZQ1gCa"
      },
      "execution_count": null,
      "outputs": []
    },
    {
      "cell_type": "code",
      "source": [
        "#Question12 Describe a scenario where using a tuple would be preferable over a list.\n",
        "\n",
        "#Answer: Use a tuple over a list when you need an immutable collection. For example, storing immutable configuration settings ensures the values can't be changed accidentally, preserving data integrity. Additionally, tuples offer efficiency as they are faster and use less memory. They are also hashable, allowing them to be used as dictionary keys or set elements."
      ],
      "metadata": {
        "id": "QIeID2Oy2Ppf"
      },
      "execution_count": null,
      "outputs": []
    },
    {
      "cell_type": "code",
      "source": [
        "#Question13 How do sets handle duplicate values in Python?\n",
        "\n",
        "#Answer: In Python, sets automatically handle duplicate values by removing them. A set only stores unique elements, so if you try to add a duplicate value, it will be ignored.\n"
      ],
      "metadata": {
        "id": "yzlCNE5o441B"
      },
      "execution_count": null,
      "outputs": []
    },
    {
      "cell_type": "code",
      "source": [
        "#Question14 How does the “in” keyword work differently for lists and dictionaries?\n",
        "\n",
        "#Answer: For Lists: The in keyword checks if an element exists in the list. It returns True if the element is found and False otherwise.\n",
        "\n",
        "# For Dictionaries: The in keyword checks if a key exists in the dictionary, not the value. It returns True if the key is found and False otherwise."
      ],
      "metadata": {
        "id": "sWC0IhQ_5oz-"
      },
      "execution_count": null,
      "outputs": []
    },
    {
      "cell_type": "code",
      "source": [
        "#Question15 Can you modify the elements of a tuple? Explain why or why not.\n",
        "\n",
        "#Answer: No, you cannot modify the elements of a tuple because tuples are immutable. Once a tuple is created, its elements cannot be changed, added, or removed.\n"
      ],
      "metadata": {
        "id": "dN3AZLW16Xsb"
      },
      "execution_count": null,
      "outputs": []
    },
    {
      "cell_type": "code",
      "source": [
        "#Question16  What is a nested dictionary, and give an example of its use case?\n",
        "\n",
        "#Answer: A nested dictionary is a dictionary where the values are also dictionaries. This allows for hierarchical data storage and complex data structures.\n",
        "\n",
        "students_grades = {\n",
        "    \"Ram\": {\"Math\": 90, \"Science\": 85},\n",
        "    \"Mukesh\": {\"Math\": 75, \"Science\": 92},\n",
        "    \"Rahul\": {\"Math\": 88, \"Science\": 79}\n",
        "}\n",
        "\n",
        "# Accessing Mukesh's Science grade\n",
        "bob_science_grade = students_grades[\"Mukesh\"][\"Science\"]\n",
        "print(bob_science_grade)\n"
      ],
      "metadata": {
        "colab": {
          "base_uri": "https://localhost:8080/"
        },
        "id": "ZPvmXcfv6rXV",
        "outputId": "630d3e86-8fd6-422b-a2a1-70a1993196b8"
      },
      "execution_count": 15,
      "outputs": [
        {
          "output_type": "stream",
          "name": "stdout",
          "text": [
            "92\n"
          ]
        }
      ]
    },
    {
      "cell_type": "code",
      "source": [
        "#Question17 Describe the time complexity of accessing elements in a dictionary.\n",
        "\n",
        "#Answer: Accessing elements in a dictionary has an average time complexity of O(1) (constant time), thanks to the hash table implementation. However, in rare worst-case scenarios with many hash collisions, it can degrade to O(n), where 𝑛 is the number of elements."
      ],
      "metadata": {
        "id": "SYm1R8Nt7KIL"
      },
      "execution_count": null,
      "outputs": []
    },
    {
      "cell_type": "code",
      "source": [
        "#Question18 In what situations are lists preferred over dictionaries?\n",
        "\n",
        "#Answer: Lists are preferred over dictionaries in the following situations:\n",
        "\n",
        "# Ordered Data: When the order of elements matters.\n",
        "\n",
        "# Sequential Access: When you need to iterate through elements in a sequence.\n",
        "\n",
        "# Homogeneous Data: When storing a collection of similar items.\n",
        "\n",
        "# Index-Based Access: When accessing elements by their position/index."
      ],
      "metadata": {
        "id": "qZ_uQ-788aXR"
      },
      "execution_count": null,
      "outputs": []
    },
    {
      "cell_type": "code",
      "source": [
        "#Question19 Why are dictionaries considered unordered, and how does that affect data retrieval?\n",
        "\n",
        "#Answer: Dictionaries are considered unordered because they do not maintain the order of elements based on their insertion. Instead, they store key-value pairs based on the hash values of the keys.\n",
        "\n",
        "#Impact on Data Retrieval:\n",
        "\n",
        "# Unpredictable Order: The order of keys and values when iterating over a dictionary is not guaranteed to match the insertion order\n",
        "\n",
        "# Efficient Lookup: Despite being unordered, dictionaries offer fast, efficient data retrieval using keys."
      ],
      "metadata": {
        "id": "h0cnfg9r7Meo"
      },
      "execution_count": null,
      "outputs": []
    },
    {
      "cell_type": "code",
      "source": [
        "#Question20  Explain the difference between a list and a dictionary in terms of data retrieval.\n",
        "\n",
        "#Answer: Lists:\n",
        "# Access by index\n",
        "# ordered\n",
        "# Maintains insertion order\n",
        "\n",
        "#Dictionaries:\n",
        "# Access by key\n",
        "# Unordered\n",
        "# Efficient lookups"
      ],
      "metadata": {
        "id": "GRR1vlaN9uVy"
      },
      "execution_count": null,
      "outputs": []
    },
    {
      "cell_type": "markdown",
      "source": [
        "                                                                      \n",
        "                                                                       \n",
        "                                                                        \n",
        "                                                                         \n",
        "                                                                          \n",
        "                                                                           \n",
        "                                                                            \n",
        "                                                                             \n",
        "                                                                              \n",
        "                                                                               **Practical Questions**"
      ],
      "metadata": {
        "id": "r8iNQths_hmN"
      }
    },
    {
      "cell_type": "code",
      "source": [
        "#Question1  Write a code to create a string with your name and print it.\n",
        "\n",
        "my_name = \"Kaushlendra\"\n",
        "print(my_name)"
      ],
      "metadata": {
        "colab": {
          "base_uri": "https://localhost:8080/"
        },
        "id": "IqE97dwU_t73",
        "outputId": "5d5e6d9c-67e2-41d1-f678-c4c2642d7b6f"
      },
      "execution_count": 16,
      "outputs": [
        {
          "output_type": "stream",
          "name": "stdout",
          "text": [
            "Kaushlendra\n"
          ]
        }
      ]
    },
    {
      "cell_type": "code",
      "source": [
        "#Question2 Write a code to find the length of the string \"Hello World\".\n",
        "\n",
        "string = \"Hello World\"\n",
        "length = len(string)\n",
        "print(length)"
      ],
      "metadata": {
        "colab": {
          "base_uri": "https://localhost:8080/"
        },
        "id": "6bHn4oow_8GS",
        "outputId": "65157513-6ce4-4ea4-d3a2-2a2a4bde1794"
      },
      "execution_count": 17,
      "outputs": [
        {
          "output_type": "stream",
          "name": "stdout",
          "text": [
            "11\n"
          ]
        }
      ]
    },
    {
      "cell_type": "code",
      "source": [
        "#Question3 Write a code to slice the first 3 characters from the string \"Python Programming\"?\n",
        "\n",
        "string = \"Python Programming\"\n",
        "\n",
        "# Slicing the first 3 characters\n",
        "sliced_string = string[:3]\n",
        "\n",
        "# Printing the sliced string\n",
        "print(sliced_string)\n"
      ],
      "metadata": {
        "colab": {
          "base_uri": "https://localhost:8080/"
        },
        "id": "k9CbfjA2AFUy",
        "outputId": "06e7b5dc-d6c0-4225-9c9b-41d14adc16e1"
      },
      "execution_count": 18,
      "outputs": [
        {
          "output_type": "stream",
          "name": "stdout",
          "text": [
            "Pyt\n"
          ]
        }
      ]
    },
    {
      "cell_type": "code",
      "source": [
        "#Question4 Write a code to convert the string \"hello\" to uppercase?\n",
        "\n",
        "string = \"hello\"\n",
        "uppercase_string = string.upper()\n",
        "print(uppercase_string)"
      ],
      "metadata": {
        "colab": {
          "base_uri": "https://localhost:8080/"
        },
        "id": "EnP7hvQkAZJ1",
        "outputId": "18d935f5-81f4-416b-d4e2-78e5789eba8f"
      },
      "execution_count": 19,
      "outputs": [
        {
          "output_type": "stream",
          "name": "stdout",
          "text": [
            "HELLO\n"
          ]
        }
      ]
    },
    {
      "cell_type": "code",
      "source": [
        "#Question5 Write a code to replace the word \"apple\" with \"orange\" in the string \"I like apple\"?\n",
        "\n",
        "string = \"I like apple\"\n",
        "\n",
        "# Replacing the word \"apple\" with \"orange\"\n",
        "replaced_string = string.replace(\"apple\", \"orange\")\n",
        "\n",
        "print(replaced_string)\n"
      ],
      "metadata": {
        "colab": {
          "base_uri": "https://localhost:8080/"
        },
        "id": "ArEPt4ukAhs0",
        "outputId": "d29754c9-688e-441a-c0c9-eafae1f1492e"
      },
      "execution_count": 22,
      "outputs": [
        {
          "output_type": "stream",
          "name": "stdout",
          "text": [
            "I like orange\n"
          ]
        }
      ]
    },
    {
      "cell_type": "code",
      "source": [
        "#Question6 Write a code to create a list with numbers 1 to 5 and print it.\n",
        "\n",
        "my_list = [1, 2, 3, 4, 5]\n",
        "print(my_list)"
      ],
      "metadata": {
        "colab": {
          "base_uri": "https://localhost:8080/"
        },
        "id": "00tsh__JA8QI",
        "outputId": "a9be712d-2dcd-40d2-f476-f29136f9d038"
      },
      "execution_count": 23,
      "outputs": [
        {
          "output_type": "stream",
          "name": "stdout",
          "text": [
            "[1, 2, 3, 4, 5]\n"
          ]
        }
      ]
    },
    {
      "cell_type": "code",
      "source": [
        "#Question7 Write a code to append the number 10 to the list [1, 2, 3, 4].\n",
        "\n",
        "my_list = [1, 2, 3, 4]\n",
        "my_list.append(10)\n",
        "print(my_list)"
      ],
      "metadata": {
        "colab": {
          "base_uri": "https://localhost:8080/"
        },
        "id": "u0c7idGXBMph",
        "outputId": "ba7763af-c802-47cf-952d-6f06d534b78a"
      },
      "execution_count": 24,
      "outputs": [
        {
          "output_type": "stream",
          "name": "stdout",
          "text": [
            "[1, 2, 3, 4, 10]\n"
          ]
        }
      ]
    },
    {
      "cell_type": "code",
      "source": [
        "#Question8 Write a code to remove the number 3 from the list [1, 2, 3, 4, 5].\n",
        "\n",
        "my_list = [1, 2, 3, 4, 5]\n",
        "my_list.remove(3)\n",
        "print(my_list)"
      ],
      "metadata": {
        "colab": {
          "base_uri": "https://localhost:8080/"
        },
        "id": "GSZi5YYTBVIC",
        "outputId": "94a44416-3f1e-43ad-9d65-ccc9314e6b77"
      },
      "execution_count": 25,
      "outputs": [
        {
          "output_type": "stream",
          "name": "stdout",
          "text": [
            "[1, 2, 4, 5]\n"
          ]
        }
      ]
    },
    {
      "cell_type": "code",
      "source": [
        "#Question9 Write a code to access the second element in the list ['a', 'b', 'c', 'd'].\n",
        "\n",
        "my_list = ['a', 'b', 'c', 'd']\n",
        "second_element = my_list[1]\n",
        "print(second_element)"
      ],
      "metadata": {
        "colab": {
          "base_uri": "https://localhost:8080/"
        },
        "id": "mX_kk7axBeOS",
        "outputId": "d6436d40-1ace-4e7a-da8d-d18a4580b137"
      },
      "execution_count": 26,
      "outputs": [
        {
          "output_type": "stream",
          "name": "stdout",
          "text": [
            "b\n"
          ]
        }
      ]
    },
    {
      "cell_type": "code",
      "source": [
        "#Question10 Write a code to reverse the list [10, 20, 30, 40, 50].\n",
        "\n",
        "my_list = [10, 20, 30, 40, 50]\n",
        "reversed_list = my_list[::-1]\n",
        "print(reversed_list)\n"
      ],
      "metadata": {
        "colab": {
          "base_uri": "https://localhost:8080/"
        },
        "id": "Z4uVXxoSBmir",
        "outputId": "0481e7d8-b862-4517-c28d-a1991cad454c"
      },
      "execution_count": 27,
      "outputs": [
        {
          "output_type": "stream",
          "name": "stdout",
          "text": [
            "[50, 40, 30, 20, 10]\n"
          ]
        }
      ]
    },
    {
      "cell_type": "code",
      "source": [
        "#Question11 Write a code to create a tuple with the elements 10, 20, 30 and print it.\n",
        "\n",
        "my_tuple = (10, 20, 30)\n",
        "print(my_tuple)"
      ],
      "metadata": {
        "colab": {
          "base_uri": "https://localhost:8080/"
        },
        "id": "Zk2sAfr9Bz9N",
        "outputId": "f2727356-05e0-4087-de80-23400ea53c43"
      },
      "execution_count": 28,
      "outputs": [
        {
          "output_type": "stream",
          "name": "stdout",
          "text": [
            "(10, 20, 30)\n"
          ]
        }
      ]
    },
    {
      "cell_type": "code",
      "source": [
        "#Question12 Write a code to access the first element of the tuple ('apple', 'banana', 'cherry').\n",
        "\n",
        "my_tuple = ('apple', 'banana', 'cherry')\n",
        "first_element = my_tuple[0]\n",
        "print(first_element)"
      ],
      "metadata": {
        "colab": {
          "base_uri": "https://localhost:8080/"
        },
        "id": "s2cM3FvvB81W",
        "outputId": "7468964a-8a56-416a-83bf-4452ef998a6f"
      },
      "execution_count": 29,
      "outputs": [
        {
          "output_type": "stream",
          "name": "stdout",
          "text": [
            "apple\n"
          ]
        }
      ]
    },
    {
      "cell_type": "code",
      "source": [
        "#Question13 Write a code to count how many times the number 2 appears in the tuple (1, 2, 3, 2, 4, 2).\n",
        "\n",
        "my_tuple = (1, 2, 3, 2, 4, 2)\n",
        "count = my_tuple.count(2)\n",
        "print(count)"
      ],
      "metadata": {
        "colab": {
          "base_uri": "https://localhost:8080/"
        },
        "id": "5QFankcTCDm3",
        "outputId": "a67a20d7-acfd-47b8-8130-77b8bb4a972d"
      },
      "execution_count": 30,
      "outputs": [
        {
          "output_type": "stream",
          "name": "stdout",
          "text": [
            "3\n"
          ]
        }
      ]
    },
    {
      "cell_type": "code",
      "source": [
        "#Question14 Write a code to find the index of the element \"cat\" in the tuple ('dog', 'cat', 'rabbit').\n",
        "\n",
        "my_tuple= ('dog', 'cat', 'rabbit')\n",
        "index = my_tuple.index('cat')\n",
        "print(index)"
      ],
      "metadata": {
        "colab": {
          "base_uri": "https://localhost:8080/"
        },
        "id": "RL9AWu8gCL5Q",
        "outputId": "2697159d-4a0d-4c04-fa26-9518d913901d"
      },
      "execution_count": 31,
      "outputs": [
        {
          "output_type": "stream",
          "name": "stdout",
          "text": [
            "1\n"
          ]
        }
      ]
    },
    {
      "cell_type": "code",
      "source": [
        "#Question15 Write a code to check if the element \"banana\" is in the tuple ('apple', 'orange', 'banana').\n",
        "\n",
        "my_tuple = ('apple', 'orange', 'banana')\n",
        "element = 'banana'\n",
        "if element in my_tuple:\n",
        "    print(f\"{element} is in the tuple.\")\n",
        "else:\n",
        "    print(f\"{element} is not in the tuple.\")"
      ],
      "metadata": {
        "colab": {
          "base_uri": "https://localhost:8080/"
        },
        "id": "6z1APuSrCaax",
        "outputId": "5fc90d50-9ef8-412e-bb76-0538cca79762"
      },
      "execution_count": 32,
      "outputs": [
        {
          "output_type": "stream",
          "name": "stdout",
          "text": [
            "banana is in the tuple.\n"
          ]
        }
      ]
    },
    {
      "cell_type": "code",
      "source": [
        "#Question16 Write a code to create a set with the elements 1, 2, 3, 4, 5 and print it.\n",
        "\n",
        "my_set={1, 2, 3, 4, 5}\n",
        "print(my_set)"
      ],
      "metadata": {
        "colab": {
          "base_uri": "https://localhost:8080/"
        },
        "id": "c30h_eQoCj97",
        "outputId": "811fa412-ded6-4906-95cc-2f69ef4bb9f1"
      },
      "execution_count": 33,
      "outputs": [
        {
          "output_type": "stream",
          "name": "stdout",
          "text": [
            "{1, 2, 3, 4, 5}\n"
          ]
        }
      ]
    },
    {
      "cell_type": "code",
      "source": [
        "#Question17 Write a code to add the element 6 to the set {1, 2, 3, 4}.\n",
        "\n",
        "my_set = {1, 2, 3, 4}\n",
        "my_set.add(6)\n",
        "print(my_set)"
      ],
      "metadata": {
        "colab": {
          "base_uri": "https://localhost:8080/"
        },
        "id": "ebB17XKNCu1b",
        "outputId": "2a41b0a1-2dc5-4d71-d723-ed2fb74e9797"
      },
      "execution_count": 34,
      "outputs": [
        {
          "output_type": "stream",
          "name": "stdout",
          "text": [
            "{1, 2, 3, 4, 6}\n"
          ]
        }
      ]
    },
    {
      "cell_type": "code",
      "source": [
        "#Question18 Write a code to create a tuple with the elements 10, 20, 30 and print it.\n",
        "\n",
        "my_tuple = (10, 20, 30)\n",
        "print(my_tuple)\n"
      ],
      "metadata": {
        "colab": {
          "base_uri": "https://localhost:8080/"
        },
        "id": "WUldmQp1C_OV",
        "outputId": "85da129f-de1c-4fd4-e63c-d889214f8d8e"
      },
      "execution_count": 35,
      "outputs": [
        {
          "output_type": "stream",
          "name": "stdout",
          "text": [
            "(10, 20, 30)\n"
          ]
        }
      ]
    },
    {
      "cell_type": "code",
      "source": [
        "#Question19  Write a code to access the first element of the tuple ('apple', 'banana', 'cherry').\n",
        "\n",
        "my_tuple = ('apple', 'banana', 'cherry')\n",
        "first_element = my_tuple[0]\n",
        "print(first_element)"
      ],
      "metadata": {
        "colab": {
          "base_uri": "https://localhost:8080/"
        },
        "id": "I9EFimzdDLBW",
        "outputId": "8eb68d12-03e4-465e-83ef-31696a064b31"
      },
      "execution_count": 36,
      "outputs": [
        {
          "output_type": "stream",
          "name": "stdout",
          "text": [
            "apple\n"
          ]
        }
      ]
    },
    {
      "cell_type": "code",
      "source": [
        "#Question20 Write a code to count how many times the number 2 appears in the tuple (1, 2, 3, 2, 4, 2).\n",
        "\n",
        "my_tuple = (1, 2, 3, 2, 4, 2)\n",
        "count = my_tuple.count(2)\n",
        "print(count)"
      ],
      "metadata": {
        "colab": {
          "base_uri": "https://localhost:8080/"
        },
        "id": "k1dNGzw8DSQH",
        "outputId": "b848b5ed-52e6-4dac-e896-a4594ffa2571"
      },
      "execution_count": 37,
      "outputs": [
        {
          "output_type": "stream",
          "name": "stdout",
          "text": [
            "3\n"
          ]
        }
      ]
    },
    {
      "cell_type": "code",
      "source": [
        "#Question21 Write a code to find the index of the element \"cat\" in the tuple ('dog', 'cat', 'rabbit').\n",
        "\n",
        "my_tuple = ('dog', 'cat', 'rabbit')\n",
        "index = my_tuple.index('cat')\n",
        "print(index)"
      ],
      "metadata": {
        "colab": {
          "base_uri": "https://localhost:8080/"
        },
        "id": "bXvUaMl0DqTx",
        "outputId": "f6f3c028-2148-489f-8eb8-4a05d3161b1f"
      },
      "execution_count": 38,
      "outputs": [
        {
          "output_type": "stream",
          "name": "stdout",
          "text": [
            "1\n"
          ]
        }
      ]
    },
    {
      "cell_type": "code",
      "source": [
        "#Question22 Write a code to check if the element \"banana\" is in the tuple ('apple', 'orange', 'banana').\n",
        "\n",
        "my_tuple = ('apple', 'orange', 'banana')\n",
        "element = 'banana'\n",
        "if element in my_tuple:\n",
        "    print(f\"{element} is in the tuple.\")\n",
        "else:\n",
        "    print(f\"{element} is not in the tuple.\")"
      ],
      "metadata": {
        "colab": {
          "base_uri": "https://localhost:8080/"
        },
        "id": "4kKTfpOtD457",
        "outputId": "cb43e33a-9935-41e8-f28f-da956a6b2d5c"
      },
      "execution_count": 39,
      "outputs": [
        {
          "output_type": "stream",
          "name": "stdout",
          "text": [
            "banana is in the tuple.\n"
          ]
        }
      ]
    },
    {
      "cell_type": "code",
      "source": [
        "#Question23  Write a code to create a set with the elements 1, 2, 3, 4, 5 and print it.\n",
        "\n",
        "my_set = {1, 2, 3, 4, 5}\n",
        "print(my_set)"
      ],
      "metadata": {
        "colab": {
          "base_uri": "https://localhost:8080/"
        },
        "id": "-P3_exbBEBLk",
        "outputId": "c0259e92-03bb-4cdd-82db-abc501111565"
      },
      "execution_count": 40,
      "outputs": [
        {
          "output_type": "stream",
          "name": "stdout",
          "text": [
            "{1, 2, 3, 4, 5}\n"
          ]
        }
      ]
    },
    {
      "cell_type": "code",
      "source": [
        "#Question24 Write a code to add the element 6 to the set {1, 2, 3, 4}.\n",
        "\n",
        "my_set = {1, 2, 3, 4}\n",
        "my_set.add(6)\n",
        "print(my_set)"
      ],
      "metadata": {
        "colab": {
          "base_uri": "https://localhost:8080/"
        },
        "id": "WH-000PeEKIV",
        "outputId": "bc87049a-66dc-492e-c704-0f3ec7997d67"
      },
      "execution_count": 41,
      "outputs": [
        {
          "output_type": "stream",
          "name": "stdout",
          "text": [
            "{1, 2, 3, 4, 6}\n"
          ]
        }
      ]
    },
    {
      "cell_type": "code",
      "source": [],
      "metadata": {
        "id": "PJCfdmmxERm1"
      },
      "execution_count": null,
      "outputs": []
    }
  ]
}