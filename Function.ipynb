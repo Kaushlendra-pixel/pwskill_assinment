{
  "nbformat": 4,
  "nbformat_minor": 0,
  "metadata": {
    "colab": {
      "provenance": []
    },
    "kernelspec": {
      "name": "python3",
      "display_name": "Python 3"
    },
    "language_info": {
      "name": "python"
    }
  },
  "cells": [
    {
      "cell_type": "markdown",
      "source": [
        "                                 **Theory Questions:**"
      ],
      "metadata": {
        "id": "ewnqLAqInXwB"
      }
    },
    {
      "cell_type": "code",
      "source": [
        "#Question1 What is the difference between a function and a method in Python?\n",
        "\n",
        "#Answer:  Difference Between a Function and a Method in Python\n",
        "#In Python, both functions and methods are used to perform specific tasks, but they differ in their context of use and association. Below is a detailed explanation:\n",
        "\n",
        "#. Function\n",
        "# A function is a block of reusable code that performs a specific task. It is not tied to any particular object and can be called independently. Functions are defined using the def keyword.\n",
        "\n",
        "#Key Characteristics of Functions:\n",
        "#1 Functions are defined globally, outside of any class.\n",
        "#2 They are standalone and are not bound to any object.\n",
        "#3 Functions can be called directly using their name.\n",
        "\n",
        "# Function definition\n",
        "def greet(name):\n",
        "    return f\"Hello, {name}!\"\n",
        "\n",
        "# Function call\n",
        "print(greet(\"Ram\"))\n",
        "\n",
        "## Method\n",
        "# A method is a function that is associated with an object. Methods are defined within a class and must be called on an instance of the class (or the class itself, for class methods).\n",
        "\n",
        "# Key Characteristics of Methods:\n",
        "#1 Methods are defined inside a class.\n",
        "#2 They are bound to the object they are called on and can access or modify the object’s attributes.\n",
        "#3 The first parameter of an instance method is self, which refers to the object.\n",
        "\n",
        "class Greeter:\n",
        "    def __init__(self, name):\n",
        "        self.name = name  # Instance attribute\n",
        "\n",
        "    def greet(self):\n",
        "        return f\"Hello, {self.name}!\"\n",
        "\n",
        "# Create an instance of the class\n",
        "greeter = Greeter(\"raju\")\n",
        "\n",
        "# Call the method\n",
        "print(greeter.greet())\n",
        "\n",
        "\n",
        "# Key Differences\n",
        "\n",
        "#Scope:\n",
        "\n",
        "#1 Functions are defined at the module level.\n",
        "\n",
        "#2 Methods are defined within a class.\n",
        "\n",
        "# Calling:\n",
        "\n",
        "#1 Functions can be called directly by their name.\n",
        "\n",
        "#2 Methods need to be called on an instance of the class they are defined in.\n",
        "\n",
        "# Self Parameter:\n",
        "\n",
        "#1 Methods have an implicit first argument (self) that refers to the instance of the class.\n",
        "\n",
        "#2 Functions do not have this implicit argument.\n",
        "\n"
      ],
      "metadata": {
        "colab": {
          "base_uri": "https://localhost:8080/"
        },
        "id": "5uevOdsdneZ5",
        "outputId": "400f8732-ee78-4861-d524-072f4d75f05a"
      },
      "execution_count": 22,
      "outputs": [
        {
          "output_type": "stream",
          "name": "stdout",
          "text": [
            "Hello, Ram!\n",
            "Hello, raju!\n"
          ]
        }
      ]
    },
    {
      "cell_type": "code",
      "source": [
        "#Question2  Explain the concept of function arguments and parameters in Python.\n",
        "\n",
        "#Answer: Function Arguments and Parameters in Python\n",
        "# In Python, functions are defined to perform specific tasks. To make functions more flexible and reusable, we use arguments and parameters. Though often used interchangeably, they refer to distinct concepts.\n",
        "\n",
        "## Parameters:\n",
        "# Parameters are the variables listed inside the parentheses in the function definition. They act as placeholders for the values that will be passed to the function when it is called.\n",
        "\n",
        "# Example of Parameters:\n",
        "\n",
        "def greet(name, age):\n",
        "    print(f\"Hello, {name}! You are {age} years old.\")\n",
        "\n",
        "# In the example above, (name) and (age) are parameters.\n",
        "\n",
        "# Arguments\n",
        "# Arguments are the actual values that are passed to the function when it is called. These values replace the parameters in the function definition.\n",
        "\n",
        "# Example of Arguments:\n",
        "\n",
        "greet(\"Rekha\", 30)\n",
        "\n",
        "# In the example above, \"Alice\" and 30 are arguments passed to the greet function.\n",
        "\n",
        "# Types of Arguments\n",
        "## Python supports several types of arguments:\n",
        "\n",
        "# Positional Arguments: The most common type, where the order of arguments matters.\n",
        "\n",
        "def add(a, b):\n",
        "    return a + b\n",
        "\n",
        "result = add(5, 3)\n",
        "print(result)\n",
        "\n",
        "## Keyword Arguments: Where you specify the argument name and value, making the order irrelevant.\n",
        "\n",
        "def introduce(name, city):\n",
        "    print(f\"{name} lives in {city}.\")\n",
        "\n",
        "introduce(city=\"Paris\", name=\"Ram\")\n",
        "\n",
        "## Default Arguments: Parameters that assume a default value if no argument is provided during the function call.\n",
        "\n",
        "def greet(name, message=\"Hello\"):\n",
        "    print(f\"{message}, {name}!\")\n",
        "\n",
        "greet(\"Sita\")\n",
        "greet(\"saleem\", \"Hi\")\n",
        "\n",
        "## Variable-Length Arguments: Functions can accept a variable number of arguments using *args and **kwargs.\n",
        "\n",
        "def add_all(*args):\n",
        "    return sum(args)\n",
        "\n",
        "print(add_all(1, 2, 3, 4))\n",
        "\n",
        "def display_info(**kwargs):\n",
        "    for key, value in kwargs.items():\n",
        "        print(f\"{key}: {value}\")\n",
        "\n",
        "display_info(name= \"Sita\", age=30, city=\"London\")\n",
        "# Output:\n",
        "# name: Alice\n",
        "# age: 30\n",
        "# city: London\n",
        "# Summary\n",
        "# Parameters: Placeholders in function definitions.\n",
        "\n",
        "# Arguments: Actual values passed to the function.\n",
        "\n",
        "# Types of arguments: Positional, Keyword, Default, and Variable-Length."
      ],
      "metadata": {
        "colab": {
          "base_uri": "https://localhost:8080/"
        },
        "id": "aFaKEH0pqsnl",
        "outputId": "74aa3963-cf79-4386-a08e-c9fde36c72b2"
      },
      "execution_count": 27,
      "outputs": [
        {
          "output_type": "stream",
          "name": "stdout",
          "text": [
            "Hello, Rekha! You are 30 years old.\n",
            "8\n",
            "Ram lives in Paris.\n",
            "Hello, Sita!\n",
            "Hi, saleem!\n",
            "10\n",
            "name: Sita\n",
            "age: 30\n",
            "city: London\n"
          ]
        }
      ]
    },
    {
      "cell_type": "code",
      "source": [
        "#Question3  What are the different ways to define and call a function in Python?\n",
        "\n",
        "#Answer: 1. Standard Function Definition and Call\n",
        "# Definition:\n",
        "# Standard functions are defined using the def keyword, followed by the function name, parameters, and a block of code.\n",
        "\n",
        "def greet(name):\n",
        "    return f\"Hello, {name}!\"\n",
        "# Call:\n",
        "# Standard functions are called by using their name followed by parentheses containing arguments.\n",
        "\n",
        "print(greet(\"Ram\"))\n",
        "\n",
        "#2. Lambda Functions\n",
        "# Lambda functions are anonymous, single-expression functions defined using the lambda keyword. They are often used for short, simple functions.\n",
        "\n",
        "# Definition:\n",
        "\n",
        "multiply = lambda x, y: x * y\n",
        "\n",
        "#Call:\n",
        "# Lambda functions are called similarly to standard functions.\n",
        "\n",
        "print(multiply(3, 4))\n",
        "\n",
        "#3. Functions with Default Arguments\n",
        "# Functions can have default values for parameters, which are used if no argument is provided.\n",
        "\n",
        "# Definition:\n",
        "\n",
        "def greet(name, message=\"Hello\"):\n",
        "    return f\"{message}, {name}!\"\n",
        "\n",
        "# Call:\n",
        "# You can call the function with or without the default argument.\n",
        "\n",
        "print(greet(\"Sita\"))\n",
        "print(greet(\"Ram\", \"Hi\"))\n",
        "\n",
        "#4. Variable-Length Arguments\n",
        "# Functions can accept a variable number of positional and keyword arguments using *args and **kwargs.\n",
        "\n",
        "#Definition:\n",
        "\n",
        "def sum_all(*args):\n",
        "    return sum(args)\n",
        "\n",
        "def display_info(**kwargs):\n",
        "    for key, value in kwargs.items():\n",
        "        print(f\"{key}: {value}\")\n",
        "#Call:\n",
        "\n",
        "print(sum_all(1, 2, 3, 4))\n",
        "display_info(name=\"Mukesh\", age=30)\n",
        "\n",
        "#5. Nested Functions\n",
        "# Functions can be defined within other functions, creating nested functions.\n",
        "\n",
        "#Definition:\n",
        "\n",
        "def outer_function(x):\n",
        "    def inner_function(y):\n",
        "        return x + y\n",
        "    return inner_function\n",
        "#Call:\n",
        "\n",
        "add_five = outer_function(5)\n",
        "print(add_five(3))\n",
        "\n",
        "#6. Higher-Order Functions\n",
        "# Higher-order functions are functions that take other functions as arguments or return them.\n",
        "\n",
        "#Definition:\n",
        "\n",
        "def apply_function(f, value):\n",
        "    return f(value)\n",
        "\n",
        "def square(x):\n",
        "    return x * x\n",
        "#Call:\n",
        "\n",
        "print(apply_function(square, 5))"
      ],
      "metadata": {
        "colab": {
          "base_uri": "https://localhost:8080/"
        },
        "id": "cyY2KphGtZk9",
        "outputId": "ec9a5a06-33da-4071-ccd0-beb7460cc7ed"
      },
      "execution_count": 29,
      "outputs": [
        {
          "output_type": "stream",
          "name": "stdout",
          "text": [
            "Hello, Ram!\n",
            "12\n",
            "Hello, Sita!\n",
            "Hi, Ram!\n",
            "10\n",
            "name: Mukesh\n",
            "age: 30\n",
            "8\n",
            "25\n"
          ]
        }
      ]
    },
    {
      "cell_type": "code",
      "source": [
        "#Question4 What is the purpose of the `return` statement in a Python function?\n",
        "\n",
        "#Answer: Purpose of the return Statement in Python\n",
        "# The return statement in a Python function serves two main purposes:\n",
        "\n",
        "#1 Ends Function Execution: It terminates the function's execution.\n",
        "\n",
        "#2 Returns a Value: It returns a value to the caller.\n",
        "\n",
        "# If no return statement is provided, the function returns None by default.\n",
        "\n",
        "def add(a, b):\n",
        "    return a + b\n",
        "\n",
        "result = add(3, 5)\n",
        "print(result)\n"
      ],
      "metadata": {
        "colab": {
          "base_uri": "https://localhost:8080/"
        },
        "id": "-QeAd1Ysvsuu",
        "outputId": "d8da3f10-c4cf-4575-eb3b-e0daf6506afb"
      },
      "execution_count": 30,
      "outputs": [
        {
          "output_type": "stream",
          "name": "stdout",
          "text": [
            "8\n"
          ]
        }
      ]
    },
    {
      "cell_type": "code",
      "source": [
        "#Question5 What are iterators in Python and how do they differ from iterables?\n",
        "\n",
        "#Answer: Iterators vs. Iterables in Python\n",
        "\n",
        "#Iterables:\n",
        "\n",
        "#1 An iterable is any Python object capable of returning its members one at a time.\n",
        "\n",
        "#2 Examples include lists, tuples, and strings.\n",
        "\n",
        "#3 They have the __iter__() method that returns an iterator.\n",
        "\n",
        "#Iterators:\n",
        "\n",
        "#1 An iterator is an object used to iterate over an iterable.\n",
        "\n",
        "#2 It keeps track of the current position.\n",
        "\n",
        "#3 They implement the __iter__() and __next__() methods.\n",
        "\n",
        "# Iterable\n",
        "my_list = [1, 2, 3]\n",
        "# Iterator\n",
        "my_iterator = iter(my_list)\n",
        "\n",
        "print(next(my_iterator))\n",
        "print(next(my_iterator))\n",
        "print(next(my_iterator))\n",
        "\n"
      ],
      "metadata": {
        "colab": {
          "base_uri": "https://localhost:8080/"
        },
        "id": "qK1MZ6d6vvN1",
        "outputId": "64df1a34-fa8b-4864-d1a3-22e1cb590fb8"
      },
      "execution_count": 31,
      "outputs": [
        {
          "output_type": "stream",
          "name": "stdout",
          "text": [
            "1\n",
            "2\n",
            "3\n"
          ]
        }
      ]
    },
    {
      "cell_type": "code",
      "source": [
        "#Question6 Explain the concept of generators in Python and how they are defined.\n",
        "\n",
        "#Answer: Generators are a special type of function that return an iterator and allow you to iterate over data without storing it all in memory.\n",
        "\n",
        "# Defining Generators\n",
        "# Generators are defined using the yield keyword.\n",
        "\n",
        "#advantanges:\n",
        "#1 Memory Efficient: Only generates items as needed.\n",
        "#2 Simplifies Code: No need to manage iterator state manually.\n",
        "\n",
        "def squares(n):\n",
        "    for i in range(n):\n",
        "        yield i ** 2\n",
        "\n",
        "for square in squares(11):\n",
        "    print(square)\n"
      ],
      "metadata": {
        "colab": {
          "base_uri": "https://localhost:8080/"
        },
        "id": "kev8BNDHxfd_",
        "outputId": "b3c0127d-780d-43f8-8d4a-117a4f5e23e4"
      },
      "execution_count": 32,
      "outputs": [
        {
          "output_type": "stream",
          "name": "stdout",
          "text": [
            "0\n",
            "1\n",
            "4\n",
            "9\n",
            "16\n",
            "25\n",
            "36\n",
            "49\n",
            "64\n",
            "81\n",
            "100\n"
          ]
        }
      ]
    },
    {
      "cell_type": "code",
      "source": [
        "#Question7 What are the advantages of using generators over regular functions?\n",
        "\n",
        "#Answer: Advantages of Using Generators Over Regular Functions\n",
        "# Memory Efficiency:\n",
        "\n",
        "# Generators generate values on the fly and do not store the entire sequence in memory, which is ideal for large datasets.\n",
        "\n",
        "# Lazy Evaluation:\n",
        "\n",
        "# Generators evaluate elements only when needed, thus delaying computation until it's absolutely necessary.\n",
        "\n",
        "# Improved Performance:\n",
        "\n",
        "# Generators can lead to faster execution times for certain operations because they avoid the overhead of storing and managing large data structures.\n",
        "\n",
        "# Simplified Code:\n",
        "\n",
        "# Generators can simplify the implementation of iterators, making the code more readable and easier to maintain.\n",
        "\n",
        "# State Preservation:\n",
        "\n",
        "# Generators maintain their state between each call, which is useful for tasks that involve maintaining complex states.\n",
        "\n",
        "\n",
        "def squares(n):\n",
        "    for i in range(n):\n",
        "        yield i ** 2\n",
        "\n",
        "for square in squares(11):\n",
        "    print(square)"
      ],
      "metadata": {
        "colab": {
          "base_uri": "https://localhost:8080/"
        },
        "id": "F2wF1Ubzyv-P",
        "outputId": "94d45713-3451-4bb0-bf43-ad4ee2bd5d65"
      },
      "execution_count": 33,
      "outputs": [
        {
          "output_type": "stream",
          "name": "stdout",
          "text": [
            "0\n",
            "1\n",
            "4\n",
            "9\n",
            "16\n",
            "25\n",
            "36\n",
            "49\n",
            "64\n",
            "81\n",
            "100\n"
          ]
        }
      ]
    },
    {
      "cell_type": "code",
      "source": [
        "#Question8  What is a lambda function in Python and when is it typically used?\n",
        "\n",
        "#Answer: A lambda function is a small, anonymous function defined using the lambda keyword. It can take multiple arguments but only has one expression, which is automatically returned.\n",
        "\n",
        "# Syntax:\n",
        "# lambda arguments: expression\n",
        "\n",
        "# example:\n",
        "\n",
        "add = lambda a, b: a + b\n",
        "print(add(3, 5))\n",
        "\n",
        "# typically used for:\n",
        "\n",
        "#1 Short functions: For simple operations.\n",
        "\n",
        "#2 Higher-order functions: As arguments in functions like map(), filter(), sorted().\n",
        "\n",
        "#3 Sorting: Defining custom sorting criteria."
      ],
      "metadata": {
        "colab": {
          "base_uri": "https://localhost:8080/"
        },
        "id": "y5K8JqANzctc",
        "outputId": "fc8ea83e-c8a6-45a0-d115-5ab304a398b4"
      },
      "execution_count": 34,
      "outputs": [
        {
          "output_type": "stream",
          "name": "stdout",
          "text": [
            "8\n"
          ]
        }
      ]
    },
    {
      "cell_type": "code",
      "source": [
        "#Question9 Explain the purpose and usage of the `map()` function in Python.\n",
        "\n",
        "#Answer: The map() function in Python is used to apply a given function to all the items in an iterable (like a list or tuple) and return a new iterable (map object) with the results.\n",
        "\n",
        "# Purpose:\n",
        "#1 To transform or process each element in an iterable according to a specified function.\n",
        "\n",
        "#2 To avoid writing explicit loops for applying the same operation to all elements.\n",
        "\n",
        "#Usuage:\n",
        "\n",
        "#1 Define a Function: Create a function to perform the desired transformation.\n",
        "\n",
        "#2 Prepare an Iterable: Have an iterable whose elements you want to transform.\n",
        "\n",
        "#3 Apply the map() Function: Use map() to apply the function to each element of the iterable.\n",
        "\n",
        "#4 Convert the Result to a List (if needed): The result of map() is a map object, which can be converted to a list to view the results.\n",
        "\n",
        "def square(x):\n",
        "    return x * x\n",
        "\n",
        "numbers = [1, 2, 3, 4]\n",
        "squared_numbers = map(square, numbers)\n",
        "print(list(squared_numbers))\n",
        "\n",
        "\n"
      ],
      "metadata": {
        "colab": {
          "base_uri": "https://localhost:8080/"
        },
        "id": "v18FW7iO0puM",
        "outputId": "7b3df411-9266-482b-90a3-b64324e5854b"
      },
      "execution_count": 35,
      "outputs": [
        {
          "output_type": "stream",
          "name": "stdout",
          "text": [
            "[1, 4, 9, 16]\n"
          ]
        }
      ]
    },
    {
      "cell_type": "code",
      "source": [
        "#Question10  What is the difference between `map()`, `reduce()`, and `filter()` functions in Python?\n",
        "\n",
        "#Answer: map()\n",
        "# Purpose: Applies a given function to each item in an iterable and returns a new iterable (map object) with the results.\n",
        "# Usage: Used for transforming or modifying each element in an iterable.\n",
        "# Returns: An iterator containing the results of applying the function to each item.\n",
        "\n",
        "numbers = [1, 2, 3]\n",
        "squared = map(lambda x: x ** 2, numbers)\n",
        "print(list(squared))\n",
        "\n",
        "#reduce()\n",
        "\n",
        "# Purpose: Applies a binary function (a function that takes two arguments) cumulatively to the items in an iterable, reducing the iterable to a single accumulated result.\n",
        "# Usage: Used for cumulative operations, such as summing elements, multiplying, etc.\n",
        "# Returns: A single value, the result of accumulating values across the iterable.\n",
        "# Note: Needs to be imported from functools.\n",
        "\n",
        "from functools import reduce\n",
        "numbers = [1, 2, 3]\n",
        "result = reduce(lambda x, y: x + y, numbers)\n",
        "print(result)\n",
        "\n",
        "\n",
        "#filter()\n",
        "\n",
        "# Purpose: Filters elements from an iterable based on a given function that returns a boolean value. Only elements that evaluate to True are kept.\n",
        "# Usage: Used for selecting or filtering elements that satisfy a condition.\n",
        "# Returns: An iterator containing the elements that satisfy the condition.\n",
        "\n",
        "numbers = [1, 2, 3, 4]\n",
        "even_numbers = filter(lambda x: x % 2 == 0, numbers)\n",
        "print(list(even_numbers))\n",
        "\n",
        "#Difference:\n",
        "# map(): Transforms each element in an iterable.\n",
        "\n",
        "# reduce(): Aggregates the elements of an iterable into a single value.\n",
        "\n",
        "# filter(): Selects elements from an iterable that meet a condition.\n",
        "\n"
      ],
      "metadata": {
        "colab": {
          "base_uri": "https://localhost:8080/"
        },
        "id": "S_xrWZKy3FTL",
        "outputId": "1c2294be-fe29-4a77-c8ef-02779e3b7a32"
      },
      "execution_count": 36,
      "outputs": [
        {
          "output_type": "stream",
          "name": "stdout",
          "text": [
            "[1, 4, 9]\n",
            "6\n",
            "[2, 4]\n"
          ]
        }
      ]
    },
    {
      "cell_type": "code",
      "source": [
        "#Question11 Using pen & Paper write the internal mechanism for sum operation using  reduce function on this given list:[47,11,42,13];\n",
        "\n",
        "#Answer\n",
        "# List of numbers\n",
        "numbers = [47, 11, 42, 13]\n",
        "\n",
        "# Define the function explicitly\n",
        "def add(x, y):\n",
        "    return x + y\n",
        "\n",
        "# Use reduce with the defined function\n",
        "result = reduce(add, numbers)\n",
        "\n",
        "# Print the final result\n",
        "print(result)\n"
      ],
      "metadata": {
        "colab": {
          "base_uri": "https://localhost:8080/"
        },
        "id": "JUssvqI94L2B",
        "outputId": "e70d903a-6f6c-4d5a-e09d-7e74c5294307"
      },
      "execution_count": 38,
      "outputs": [
        {
          "output_type": "stream",
          "name": "stdout",
          "text": [
            "113\n"
          ]
        }
      ]
    },
    {
      "cell_type": "markdown",
      "source": [
        "                              **Practical Questions:**"
      ],
      "metadata": {
        "id": "zcPAkd5JAu52"
      }
    },
    {
      "cell_type": "code",
      "source": [
        "#Question1 Write a Python function that takes a list of numbers as input and returns the sum of all even numbers in the list.\n",
        "\n",
        "def sum_of_even_numbers(numbers):\n",
        "    total = 0\n",
        "    for number in numbers:\n",
        "        if number % 2 == 0:\n",
        "            total += number\n",
        "    return total\n",
        "\n",
        "numbers = [1, 2, 3, 4, 5, 6]\n",
        "result = sum_of_even_numbers(numbers)\n",
        "print(result)\n"
      ],
      "metadata": {
        "colab": {
          "base_uri": "https://localhost:8080/"
        },
        "id": "woaNbo3rA4Tf",
        "outputId": "451a5dcd-1dc3-4b3c-8270-fd30ffc0db97"
      },
      "execution_count": 4,
      "outputs": [
        {
          "output_type": "stream",
          "name": "stdout",
          "text": [
            "12\n"
          ]
        }
      ]
    },
    {
      "cell_type": "code",
      "source": [
        "#Question2 Create a Python function that accepts a string and returns the reverse of that string.\n",
        "\n",
        "def reverse_string(s):\n",
        "    return s[::-1]\n",
        "\n",
        "reverse_string(\"Hello\")\n",
        "\n",
        "\n"
      ],
      "metadata": {
        "colab": {
          "base_uri": "https://localhost:8080/",
          "height": 36
        },
        "id": "uz9dQIVaBz-t",
        "outputId": "29ae02fa-af3a-428b-f599-b6571c731610"
      },
      "execution_count": 5,
      "outputs": [
        {
          "output_type": "execute_result",
          "data": {
            "text/plain": [
              "'olleH'"
            ],
            "application/vnd.google.colaboratory.intrinsic+json": {
              "type": "string"
            }
          },
          "metadata": {},
          "execution_count": 5
        }
      ]
    },
    {
      "cell_type": "code",
      "source": [
        "#Question3  Implement a Python function that takes a list of integers and returns a new list containing the squares of each number.\n",
        "\n",
        "def square_numbers(numbers):\n",
        "    squared_numbers = [num ** 2 for num in numbers]\n",
        "    return squared_numbers\n",
        "\n",
        "numbers = [1, 2, 3, 4, 5]\n",
        "result = square_numbers(numbers)\n",
        "print(result)"
      ],
      "metadata": {
        "colab": {
          "base_uri": "https://localhost:8080/"
        },
        "id": "AAnFiAG9CVuS",
        "outputId": "79ac1cc2-323d-4515-c8ba-6e60b90deff6"
      },
      "execution_count": 6,
      "outputs": [
        {
          "output_type": "stream",
          "name": "stdout",
          "text": [
            "[1, 4, 9, 16, 25]\n"
          ]
        }
      ]
    },
    {
      "cell_type": "code",
      "source": [
        "#Question4 Write a Python function that checks if a given number is prime or not from 1 to 200.\n",
        "\n",
        "def is_prime(n):\n",
        "    if n <= 1:\n",
        "        return False\n",
        "    for i in range(2, int(n**0.5) + 1):\n",
        "        if n % i == 0:\n",
        "            return False\n",
        "    return True\n",
        "\n",
        "for number in range(1, 201):\n",
        "    if is_prime(number):\n",
        "        print(f\"{number} is a prime number.\")\n",
        "    else:\n",
        "        print(f\"{number} is not a prime number.\")\n"
      ],
      "metadata": {
        "colab": {
          "base_uri": "https://localhost:8080/"
        },
        "id": "H1f-0zFsCj6i",
        "outputId": "a5ca24e1-f9c3-432a-cd57-1ee5cad1245e"
      },
      "execution_count": 7,
      "outputs": [
        {
          "output_type": "stream",
          "name": "stdout",
          "text": [
            "1 is not a prime number.\n",
            "2 is a prime number.\n",
            "3 is a prime number.\n",
            "4 is not a prime number.\n",
            "5 is a prime number.\n",
            "6 is not a prime number.\n",
            "7 is a prime number.\n",
            "8 is not a prime number.\n",
            "9 is not a prime number.\n",
            "10 is not a prime number.\n",
            "11 is a prime number.\n",
            "12 is not a prime number.\n",
            "13 is a prime number.\n",
            "14 is not a prime number.\n",
            "15 is not a prime number.\n",
            "16 is not a prime number.\n",
            "17 is a prime number.\n",
            "18 is not a prime number.\n",
            "19 is a prime number.\n",
            "20 is not a prime number.\n",
            "21 is not a prime number.\n",
            "22 is not a prime number.\n",
            "23 is a prime number.\n",
            "24 is not a prime number.\n",
            "25 is not a prime number.\n",
            "26 is not a prime number.\n",
            "27 is not a prime number.\n",
            "28 is not a prime number.\n",
            "29 is a prime number.\n",
            "30 is not a prime number.\n",
            "31 is a prime number.\n",
            "32 is not a prime number.\n",
            "33 is not a prime number.\n",
            "34 is not a prime number.\n",
            "35 is not a prime number.\n",
            "36 is not a prime number.\n",
            "37 is a prime number.\n",
            "38 is not a prime number.\n",
            "39 is not a prime number.\n",
            "40 is not a prime number.\n",
            "41 is a prime number.\n",
            "42 is not a prime number.\n",
            "43 is a prime number.\n",
            "44 is not a prime number.\n",
            "45 is not a prime number.\n",
            "46 is not a prime number.\n",
            "47 is a prime number.\n",
            "48 is not a prime number.\n",
            "49 is not a prime number.\n",
            "50 is not a prime number.\n",
            "51 is not a prime number.\n",
            "52 is not a prime number.\n",
            "53 is a prime number.\n",
            "54 is not a prime number.\n",
            "55 is not a prime number.\n",
            "56 is not a prime number.\n",
            "57 is not a prime number.\n",
            "58 is not a prime number.\n",
            "59 is a prime number.\n",
            "60 is not a prime number.\n",
            "61 is a prime number.\n",
            "62 is not a prime number.\n",
            "63 is not a prime number.\n",
            "64 is not a prime number.\n",
            "65 is not a prime number.\n",
            "66 is not a prime number.\n",
            "67 is a prime number.\n",
            "68 is not a prime number.\n",
            "69 is not a prime number.\n",
            "70 is not a prime number.\n",
            "71 is a prime number.\n",
            "72 is not a prime number.\n",
            "73 is a prime number.\n",
            "74 is not a prime number.\n",
            "75 is not a prime number.\n",
            "76 is not a prime number.\n",
            "77 is not a prime number.\n",
            "78 is not a prime number.\n",
            "79 is a prime number.\n",
            "80 is not a prime number.\n",
            "81 is not a prime number.\n",
            "82 is not a prime number.\n",
            "83 is a prime number.\n",
            "84 is not a prime number.\n",
            "85 is not a prime number.\n",
            "86 is not a prime number.\n",
            "87 is not a prime number.\n",
            "88 is not a prime number.\n",
            "89 is a prime number.\n",
            "90 is not a prime number.\n",
            "91 is not a prime number.\n",
            "92 is not a prime number.\n",
            "93 is not a prime number.\n",
            "94 is not a prime number.\n",
            "95 is not a prime number.\n",
            "96 is not a prime number.\n",
            "97 is a prime number.\n",
            "98 is not a prime number.\n",
            "99 is not a prime number.\n",
            "100 is not a prime number.\n",
            "101 is a prime number.\n",
            "102 is not a prime number.\n",
            "103 is a prime number.\n",
            "104 is not a prime number.\n",
            "105 is not a prime number.\n",
            "106 is not a prime number.\n",
            "107 is a prime number.\n",
            "108 is not a prime number.\n",
            "109 is a prime number.\n",
            "110 is not a prime number.\n",
            "111 is not a prime number.\n",
            "112 is not a prime number.\n",
            "113 is a prime number.\n",
            "114 is not a prime number.\n",
            "115 is not a prime number.\n",
            "116 is not a prime number.\n",
            "117 is not a prime number.\n",
            "118 is not a prime number.\n",
            "119 is not a prime number.\n",
            "120 is not a prime number.\n",
            "121 is not a prime number.\n",
            "122 is not a prime number.\n",
            "123 is not a prime number.\n",
            "124 is not a prime number.\n",
            "125 is not a prime number.\n",
            "126 is not a prime number.\n",
            "127 is a prime number.\n",
            "128 is not a prime number.\n",
            "129 is not a prime number.\n",
            "130 is not a prime number.\n",
            "131 is a prime number.\n",
            "132 is not a prime number.\n",
            "133 is not a prime number.\n",
            "134 is not a prime number.\n",
            "135 is not a prime number.\n",
            "136 is not a prime number.\n",
            "137 is a prime number.\n",
            "138 is not a prime number.\n",
            "139 is a prime number.\n",
            "140 is not a prime number.\n",
            "141 is not a prime number.\n",
            "142 is not a prime number.\n",
            "143 is not a prime number.\n",
            "144 is not a prime number.\n",
            "145 is not a prime number.\n",
            "146 is not a prime number.\n",
            "147 is not a prime number.\n",
            "148 is not a prime number.\n",
            "149 is a prime number.\n",
            "150 is not a prime number.\n",
            "151 is a prime number.\n",
            "152 is not a prime number.\n",
            "153 is not a prime number.\n",
            "154 is not a prime number.\n",
            "155 is not a prime number.\n",
            "156 is not a prime number.\n",
            "157 is a prime number.\n",
            "158 is not a prime number.\n",
            "159 is not a prime number.\n",
            "160 is not a prime number.\n",
            "161 is not a prime number.\n",
            "162 is not a prime number.\n",
            "163 is a prime number.\n",
            "164 is not a prime number.\n",
            "165 is not a prime number.\n",
            "166 is not a prime number.\n",
            "167 is a prime number.\n",
            "168 is not a prime number.\n",
            "169 is not a prime number.\n",
            "170 is not a prime number.\n",
            "171 is not a prime number.\n",
            "172 is not a prime number.\n",
            "173 is a prime number.\n",
            "174 is not a prime number.\n",
            "175 is not a prime number.\n",
            "176 is not a prime number.\n",
            "177 is not a prime number.\n",
            "178 is not a prime number.\n",
            "179 is a prime number.\n",
            "180 is not a prime number.\n",
            "181 is a prime number.\n",
            "182 is not a prime number.\n",
            "183 is not a prime number.\n",
            "184 is not a prime number.\n",
            "185 is not a prime number.\n",
            "186 is not a prime number.\n",
            "187 is not a prime number.\n",
            "188 is not a prime number.\n",
            "189 is not a prime number.\n",
            "190 is not a prime number.\n",
            "191 is a prime number.\n",
            "192 is not a prime number.\n",
            "193 is a prime number.\n",
            "194 is not a prime number.\n",
            "195 is not a prime number.\n",
            "196 is not a prime number.\n",
            "197 is a prime number.\n",
            "198 is not a prime number.\n",
            "199 is a prime number.\n",
            "200 is not a prime number.\n"
          ]
        }
      ]
    },
    {
      "cell_type": "code",
      "source": [
        "#Question5 Create an iterator class in Python that generates the Fibonacci sequence up to a specified number of terms.\n",
        "\n",
        "def fib(n):\n",
        "  a = 0\n",
        "  b = 1\n",
        "  for i in range(n):\n",
        "    yield a\n",
        "    a, b = b, a + b\n",
        "\n",
        "for num in fib(10):\n",
        "  print(num)"
      ],
      "metadata": {
        "colab": {
          "base_uri": "https://localhost:8080/"
        },
        "id": "3Lu7Oj6mDJX-",
        "outputId": "6afc8078-0b5f-4863-cb0d-d7feb39ca989"
      },
      "execution_count": 8,
      "outputs": [
        {
          "output_type": "stream",
          "name": "stdout",
          "text": [
            "0\n",
            "1\n",
            "1\n",
            "2\n",
            "3\n",
            "5\n",
            "8\n",
            "13\n",
            "21\n",
            "34\n"
          ]
        }
      ]
    },
    {
      "cell_type": "code",
      "source": [
        "#Question6 Write a generator function in Python that yields the powers of 2 up to a given exponent.\n",
        "\n",
        "def powers_of_two(exponent):\n",
        "    for i in range(exponent + 1):\n",
        "        yield 2 ** i\n",
        "\n",
        "for power in powers_of_two(10):\n",
        "    print(power)\n"
      ],
      "metadata": {
        "colab": {
          "base_uri": "https://localhost:8080/"
        },
        "id": "XNEOPOivEQ6s",
        "outputId": "1c5b2e2e-f88a-4b9d-c3d5-135a3c7c285e"
      },
      "execution_count": 9,
      "outputs": [
        {
          "output_type": "stream",
          "name": "stdout",
          "text": [
            "1\n",
            "2\n",
            "4\n",
            "8\n",
            "16\n",
            "32\n",
            "64\n",
            "128\n",
            "256\n",
            "512\n",
            "1024\n"
          ]
        }
      ]
    },
    {
      "cell_type": "code",
      "source": [
        "#Question7 Implement a generator function that reads a file line by line and yields each line as a string.\n",
        "\n",
        "def read_file_lines(file_path):\n",
        "    with open(file_path, 'r') as file:\n",
        "        for line in file:\n",
        "            yield line\n",
        ""
      ],
      "metadata": {
        "id": "RY9m7cz9E33R"
      },
      "execution_count": 17,
      "outputs": []
    },
    {
      "cell_type": "code",
      "source": [
        "#Question8 Use a lambda function in Python to sort a list of tuples based on the second element of each tuple.\n",
        "\n",
        "tuples_list = [(1, 3), (4, 1), (5, 2), (2, 4)]\n",
        "\n",
        "sorted_list = sorted(tuples_list, key=lambda x: x[1])\n",
        "\n",
        "print(sorted_list)\n",
        "\n"
      ],
      "metadata": {
        "colab": {
          "base_uri": "https://localhost:8080/"
        },
        "id": "K_19HlEhIAQU",
        "outputId": "41d14263-0370-4483-d188-fc4041783640"
      },
      "execution_count": 18,
      "outputs": [
        {
          "output_type": "stream",
          "name": "stdout",
          "text": [
            "[(4, 1), (5, 2), (1, 3), (2, 4)]\n"
          ]
        }
      ]
    },
    {
      "cell_type": "code",
      "source": [
        "#Question9 Write a Python program that uses `map()` to convert a list of temperatures from Celsius to Fahrenheit.\n",
        "\n",
        "def celsius_to_fahrenheit(celsius):\n",
        "    return (celsius * 9/5) + 32\n",
        "\n",
        "# List of temperatures in Celsius\n",
        "celsius_temps = [0, 20, 30, 40, 100]\n",
        "\n",
        "# Convert the list of temperatures to Fahrenheit\n",
        "fahrenheit_temps = list(map(celsius_to_fahrenheit, celsius_temps))\n",
        "\n",
        "# Print the converted temperatures\n",
        "print(fahrenheit_temps)\n"
      ],
      "metadata": {
        "colab": {
          "base_uri": "https://localhost:8080/"
        },
        "id": "QsS7zigKIPY9",
        "outputId": "11f67a96-6244-4fbc-9f0e-045ada8b7feb"
      },
      "execution_count": 19,
      "outputs": [
        {
          "output_type": "stream",
          "name": "stdout",
          "text": [
            "[32.0, 68.0, 86.0, 104.0, 212.0]\n"
          ]
        }
      ]
    },
    {
      "cell_type": "code",
      "source": [
        "#Question10  Create a Python program that uses `filter()` to remove all the vowels from a given string.\n",
        "\n",
        "def remove_vowels(s):\n",
        "    vowels = \"aeiouAEIOU\"\n",
        "    return ''.join(filter(lambda char: char not in vowels, s))\n",
        "\n",
        "input_string = \"Hello, World!\"\n",
        "result = remove_vowels(input_string)\n",
        "print(result)\n",
        "\n"
      ],
      "metadata": {
        "colab": {
          "base_uri": "https://localhost:8080/"
        },
        "id": "t1g2q8tlIiOG",
        "outputId": "9a97aa85-2e60-405d-8a2d-4bfe3361fcb5"
      },
      "execution_count": 21,
      "outputs": [
        {
          "output_type": "stream",
          "name": "stdout",
          "text": [
            "Hll, Wrld!\n"
          ]
        }
      ]
    },
    {
      "cell_type": "code",
      "source": [
        "#Question11  Imagine an accounting routine used in a book shop. It works on a list with sublists, which look like this:\n",
        "\n",
        "#[34587, \"Learning Python, Mark Lutz\", 4, 40.95],\n",
        " #   [98762, \"Programming Python, Mark Lutz\", 5, 56.80],\n",
        "  #  [77226, \"Head First Python, Paul Barry\", 3, 32.95],\n",
        "   # [88112, \"Einführung in Python3, Bernd Klein\", 3, 24.99]\n",
        "\n",
        "\n",
        "\n",
        "\n",
        "\n",
        "#Write a Python program, which returns a list with 2-tuples. Each tuple consists of the order number and the product of the price per item and the quantity. The product should be increased by 10,- € if the value of the order is smaller than 100,00 €.\n",
        "\n",
        "#Write a Python program using lambda and map.\n",
        "\n",
        "\n",
        "# Input data\n",
        "orders = [\n",
        "    [34587, \"Learning Python, Mark Lutz\", 4, 40.95],\n",
        "    [98762, \"Programming Python, Mark Lutz\", 5, 56.80],\n",
        "    [77226, \"Head First Python, Paul Barry\", 3, 32.95],\n",
        "    [88112, \"Einführung in Python3, Bernd Klein\", 3, 24.99]\n",
        "]\n",
        "\n",
        "# Using lambda and map to calculate the required result\n",
        "result = list(map(\n",
        "    lambda x: (x[0], x[2] * x[3] + 10) if x[2] * x[3] < 100 else (x[0], x[2] * x[3]),\n",
        "    orders\n",
        "))\n",
        "\n",
        "print(result)\n"
      ],
      "metadata": {
        "colab": {
          "base_uri": "https://localhost:8080/"
        },
        "id": "vC0YLjKUI5x5",
        "outputId": "0540b28e-ae0e-4f24-9c6e-284de06dfb16"
      },
      "execution_count": 23,
      "outputs": [
        {
          "output_type": "stream",
          "name": "stdout",
          "text": [
            "[(34587, 163.8), (98762, 284.0), (77226, 108.85000000000001), (88112, 84.97)]\n"
          ]
        }
      ]
    }
  ]
}