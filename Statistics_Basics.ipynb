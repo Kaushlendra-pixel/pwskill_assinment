{
  "nbformat": 4,
  "nbformat_minor": 0,
  "metadata": {
    "colab": {
      "provenance": []
    },
    "kernelspec": {
      "name": "python3",
      "display_name": "Python 3"
    },
    "language_info": {
      "name": "python"
    }
  },
  "cells": [
    {
      "cell_type": "markdown",
      "source": [
        "**Statistics Basics**"
      ],
      "metadata": {
        "id": "0Adbm2BjQQnV"
      }
    },
    {
      "cell_type": "code",
      "source": [
        "#Question1. Explain the different types of data (qualitative and quantitative) and provide examples of each. Discuss nominal, ordinal, interval, and ratio scales\n",
        "\n",
        "#Answer . Qualitative (Categorical) Data: Describes qualities or characteristics.\n",
        "# Nominal: Just names or labels, no specific order.\n",
        "\n",
        "# Example: Colors of cars (Red, Blue, Black). You can’t say Red is greater than Blue!\n",
        "\n",
        "# Ordinal: Categories with a meaningful order but no fixed difference.\n",
        "\n",
        "# Example: Customer feedback (Bad, Average, Good, Excellent). \"Good\" is better than \"Average,\" but we don’t know by how much.\n",
        "\n",
        "# 2. Quantitative (Numerical) Data: Deals with numbers.\n",
        "\n",
        "# Interval: Numbers with meaningful differences but no true zero.\n",
        "\n",
        "# Example: Temperature (30°C vs. 40°C, the difference matters, but 0°C doesn’t mean 'no temperature').\n",
        "\n",
        "# Ratio: Like interval, but with a real zero point.\n",
        "\n",
        "# Example: Weight (0 kg means no weight at all, and 40 kg is twice as heavy as 20 kg)."
      ],
      "metadata": {
        "id": "TrObhB35QWam"
      },
      "execution_count": null,
      "outputs": []
    },
    {
      "cell_type": "code",
      "source": [
        "#Question2 What are the measures of central tendency, and when should you use each? Discuss the mean, median,and mode with examples and situations where each is appropriate.\n",
        "\n",
        "#Answer Imagine you're analyzing the marks of a class in a test: [35, 40, 50, 50, 60, 70, 80].\n",
        "\n",
        "# Mean (Average): Add all and divide by count → (35+40+50+50+60+70+80)/7 = 55.\n",
        "\n",
        "# Best when data is balanced (not too many extreme values).\n",
        "\n",
        "# Median (Middle value): Sort the numbers and take the middle one → 50.\n",
        "\n",
        "# Useful when there are outliers (e.g., 10, 50, 100 → Median = 50, which makes more sense than Mean = 53).\n",
        "\n",
        "#Mode (Most frequent value): Here, 50 appears twice, so Mode = 50.\n",
        "\n",
        "#Great for finding trends (e.g., most common shoe size)."
      ],
      "metadata": {
        "id": "r2Vg6oWyUzsT"
      },
      "execution_count": null,
      "outputs": []
    },
    {
      "cell_type": "code",
      "source": [
        "#Question3  Explain the concept of dispersion. How do variance and standard deviation measure the spread of data?\n",
        "\n",
        "#Answer Just knowing the average isn't enough; we also need to see how spread out the values are.\n",
        "\"\"\"\n",
        "Variance: Measures how far numbers are from the mean, but it’s in squared units (so less intuitive).\n",
        "Standard Deviation (SD): Square root of variance, makes it more interpretable.\n",
        "Example:\n",
        "\n",
        "Small SD: Scores are close (50, 51, 52, 53).\n",
        "Large SD: Scores are widely spread (20, 40, 70, 100).\n",
        "If SD is high, expect inconsistency. If low, values are similar.\n",
        "\"\"\"\n"
      ],
      "metadata": {
        "colab": {
          "base_uri": "https://localhost:8080/",
          "height": 70
        },
        "id": "pHzf_V98Veyv",
        "outputId": "d5477728-5b2d-437e-9458-7d87a74edab1"
      },
      "execution_count": 1,
      "outputs": [
        {
          "output_type": "execute_result",
          "data": {
            "text/plain": [
              "'\\nVariance: Measures how far numbers are from the mean, but it’s in squared units (so less intuitive).\\nStandard Deviation (SD): Square root of variance, makes it more interpretable.\\nExample:\\n\\nSmall SD: Scores are close (50, 51, 52, 53).\\nLarge SD: Scores are widely spread (20, 40, 70, 100).\\nIf SD is high, expect inconsistency. If low, values are similar.\\n'"
            ],
            "application/vnd.google.colaboratory.intrinsic+json": {
              "type": "string"
            }
          },
          "metadata": {},
          "execution_count": 1
        }
      ]
    },
    {
      "cell_type": "code",
      "source": [
        "#Question4  What is a box plot, and what can it tell you about the distribution of data?\n",
        "\n",
        "#Answer A box plot is like a quick summary of data distribution. It shows:\n",
        "\n",
        "# Median (Middle line inside the box).\n",
        "# Q1 & Q3 (Quartiles) – like checkpoints (25% & 75% of data).\n",
        "# Whiskers – Minimum and maximum values.\n",
        "# Outliers – Data points that are way outside the range (e.g., a student scoring 0 in an easy test)."
      ],
      "metadata": {
        "id": "24Gr-NZaWgVG"
      },
      "execution_count": null,
      "outputs": []
    },
    {
      "cell_type": "code",
      "source": [
        "#Question5  Discuss the role of random sampling in making inferences about populations\n",
        "\n",
        "#Answer Suppose you want to know the average salary in India. You can’t ask every Indian, right? Instead, you pick a random group and analyze them.\n",
        "\n",
        "# Ensures unbiased results (picking only metro city people won’t represent the whole country).\n",
        "# Helps in generalizing findings to the entire population.\n",
        "# Example: If you survey only your rich friends, you might think everyone earns ₹1 lakh per month, which isn’t true for the majority!"
      ],
      "metadata": {
        "id": "aYd7UACzXZuc"
      },
      "execution_count": null,
      "outputs": []
    },
    {
      "cell_type": "code",
      "source": [
        "#Question6 Explain the concept of skewness and its types. How does skewness affect the interpretation of data?\n",
        "\n",
        "#Answer Skewness is a measure of the asymmetry of the distribution of data. It tells us whether the data points are more concentrated on one side of the mean than the other.\n",
        "\"\"\"\n",
        "Positive Skew (Right-Skewed): Most values are low, but a few are extremely high.\n",
        "Example: Income in India (Most people earn modestly, but a few billionaires skew the average).\n",
        "Negative Skew (Left-Skewed): Most values are high, but a few are very low.\n",
        "Example: Exam scores where most students do well but a few score very low.\n",
        "No Skew (Symmetric): Mean ≈ Median ≈ Mode (like normal height distribution).\n",
        "\"\"\"\n",
        "# How Skewness Affects Interpretation:\n",
        "# Central Tendency:\n",
        "\n",
        "# Positively Skewed: The mean is greater than the median.\n",
        "\n",
        "# Negatively Skewed: The mean is less than the median.\n",
        "\n",
        "# This can affect how you interpret the average value in the dataset.\n",
        "\n",
        "# Outliers and Data Spread:\n",
        "\n",
        "# High skewness indicates the presence of outliers and greater variability.\n",
        "\n",
        "# It can impact decisions on which measures of central tendency (mean vs. median) and dispersion (range, IQR) to use."
      ],
      "metadata": {
        "id": "cDJXNYzjXqQ9"
      },
      "execution_count": null,
      "outputs": []
    },
    {
      "cell_type": "code",
      "source": [
        "#Question7  What is the interquartile range (IQR), and how is it used to detect outliers?\n",
        "\n",
        "#Answer Interquartile Range (IQR) measures the middle 50% of the data. It’s the difference between the third quartile (Q3) and the first quartile (Q1).\n",
        "\n",
        "# Detecting Outliers Using IQR\n",
        "\"\"\"\n",
        "Outliers: Values significantly higher or lower than the rest.\n",
        "\n",
        "Rule: Any data point below 𝑄 1 − 1.5 × 𝐼𝑄𝑅 or above 𝑄 3 + 1.5 × 𝐼𝑄𝑅 is considered an outlier.\n",
        "\n",
        "Example: For a dataset [5, 7, 9, 12, 15, 18, 22],\n",
        "\n",
        "Q1 = 7, Q3 = 18\n",
        "\n",
        "IQR = 18 - 7 = 11\n",
        "\n",
        "Outliers are values below 7 − 1.5 × 11 = − 9.5 or above 18 + 1.5 × 11 = 34.5\n",
        "\"\"\""
      ],
      "metadata": {
        "id": "HcV-z8UZYoOT"
      },
      "execution_count": null,
      "outputs": []
    },
    {
      "cell_type": "code",
      "source": [
        "#Question8 Discuss the conditions under which the binomial distribution is used.\n",
        "\n",
        "#answer The binomial distribution is used when an experiment meets these four conditions:\n",
        "\n",
        "# Fixed number of trials (n) – The experiment is repeated a set number of times.\n",
        "# Only two outcomes (Success/Failure) – Each trial has just two possible results (e.g., heads or tails in a coin toss).\n",
        "# Constant probability (p) – The chance of success remains the same in all trials.\n",
        "# Independent trials – The outcome of one trial does not affect the others.\n",
        "\n",
        "# Example\n",
        "# Tossing a Coin:\n",
        "\n",
        "# Fixed Number of Trials: Tossing a coin 10 times.\n",
        "\n",
        "# Binary Outcomes: Heads (success) or Tails (failure).\n",
        "\n",
        "# Constant Probability: Probability of getting heads (p) is 0.5 for each toss.\n",
        "\n",
        "# Independence: Each coin toss is independent of the others."
      ],
      "metadata": {
        "id": "D1gQQummaMed"
      },
      "execution_count": null,
      "outputs": []
    },
    {
      "cell_type": "code",
      "source": [
        "#Question9 . Explain the properties of the normal distribution and the empirical rule (68-95-99.7 rule).\n",
        "\n",
        "#Answer Properties of Normal Distribution\n",
        "# The normal distribution (also called the bell curve) has these key properties:\n",
        "\n",
        "# Symmetrical – The left and right halves are mirror images.\n",
        "# Mean = Median = Mode – All are the same, located at the center.\n",
        "# Tails extend infinitely – But never touch the x-axis.\n",
        "# Shape depends on mean (μ) and standard deviation (σ) –\n",
        "## Higher σ → Wider curve\n",
        "## Lower σ → Narrower curve\n",
        "\n",
        "# Empirical Rule (68-95-99.7 Rule):\n",
        "\n",
        "# 68% of the data falls within one standard deviation of the mean.\n",
        "\n",
        "# 95% of the data falls within two standard deviations of the mean.\n",
        "\n",
        "# 99.7% of the data falls within three standard deviations of the mean."
      ],
      "metadata": {
        "id": "OY_ubrfwa2vh"
      },
      "execution_count": null,
      "outputs": []
    },
    {
      "cell_type": "code",
      "source": [
        "#Question10 Provide a real-life example of a Poisson process and calculate the probability for a specific event.\n",
        "\n",
        "#Answer A Poisson process models the number of events happening in a fixed time or space when they occur randomly and independently.\n",
        "\n",
        "# Example: Calls at a Customer Support Center\n",
        "# Suppose a call center receives an average of 5 calls per hour. We can use the Poisson distribution to find the probability of receiving exactly 3 calls in an hour.\n",
        "\n"
      ],
      "metadata": {
        "id": "vHL_YI0cbq9f"
      },
      "execution_count": null,
      "outputs": []
    },
    {
      "cell_type": "code",
      "source": [
        "#Question11  Explain what a random variable is and differentiate between discrete and continuous random variables.\n",
        "\n",
        "#Answer A random variable is a numerical value that represents the outcome of a random event. It assigns numbers to different possible results of an experiment.\n",
        "\n",
        "#Example: Rolling a die\n",
        "\n",
        "# The possible outcomes: 1, 2, 3, 4, 5, 6\n",
        "# If we define X = outcome of rolling the die, then X is a random variable.\n",
        "\n",
        "# Types of Random Variables\n",
        "# 1. Discrete Random Variable (Countable values)\n",
        "# Takes specific values (whole numbers).\n",
        "# Represents things that can be counted.\n",
        "## Examples:\n",
        "\n",
        "# Number of goals in a football match (0, 1, 2, …)\n",
        "# Number of students in a classroom (can’t be 2.5 students).\n",
        "\n",
        "# 2. Continuous Random Variable (Uncountable values)\n",
        "# Takes any value within a range (including decimals).\n",
        "# Represents things that can be measured.\n",
        "# Examples:\n",
        "\n",
        "# Height of a person (e.g., 170.5 cm).\n",
        "# Time taken to finish a race (12.73 seconds). ⏱"
      ],
      "metadata": {
        "id": "O2e0CsiHcRmC"
      },
      "execution_count": null,
      "outputs": []
    },
    {
      "cell_type": "code",
      "source": [
        "#Question12 Provide an example dataset, calculate both covariance and correlation, and interpret the results.\n",
        "\n",
        "#Answer\n",
        "import numpy as np\n",
        "\n",
        "# Example dataset\n",
        "X = np.array([1, 2, 3, 4, 5])\n",
        "Y = np.array([2, 3, 5, 4, 6])\n",
        "\n",
        "# Step 1: Calculate the Mean\n",
        "mean_X = np.mean(X)\n",
        "mean_Y = np.mean(Y)\n",
        "\n",
        "# Step 2: Calculate Covariance\n",
        "cov_XY = np.mean((X - mean_X) * (Y - mean_Y))\n",
        "\n",
        "# Step 3: Calculate Standard Deviation\n",
        "std_X = np.std(X, ddof=0)\n",
        "std_Y = np.std(Y, ddof=0)\n",
        "\n",
        "# Step 4: Calculate Correlation\n",
        "corr_XY = cov_XY / (std_X * std_Y)\n",
        "\n",
        "# Print results\n",
        "print(f\"Mean of X: {mean_X}\")\n",
        "print(f\"Mean of Y: {mean_Y}\")\n",
        "print(f\"Covariance: {cov_XY}\")\n",
        "print(f\"Standard Deviation of X: {std_X}\")\n",
        "print(f\"Standard Deviation of Y: {std_Y}\")\n",
        "print(f\"Correlation: {corr_XY}\")\n"
      ],
      "metadata": {
        "colab": {
          "base_uri": "https://localhost:8080/"
        },
        "id": "WjUOjUoJdBZ_",
        "outputId": "5ab13627-a215-4b92-ab6b-6c97770fb181"
      },
      "execution_count": 4,
      "outputs": [
        {
          "output_type": "stream",
          "name": "stdout",
          "text": [
            "Mean of X: 3.0\n",
            "Mean of Y: 4.0\n",
            "Covariance: 1.8\n",
            "Standard Deviation of X: 1.4142135623730951\n",
            "Standard Deviation of Y: 1.4142135623730951\n",
            "Correlation: 0.8999999999999998\n"
          ]
        }
      ]
    },
    {
      "cell_type": "markdown",
      "source": [],
      "metadata": {
        "id": "f2RTYyzMa2eq"
      }
    }
  ]
}