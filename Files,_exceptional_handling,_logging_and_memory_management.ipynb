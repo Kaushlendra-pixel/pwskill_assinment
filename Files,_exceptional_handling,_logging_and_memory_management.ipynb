{
  "nbformat": 4,
  "nbformat_minor": 0,
  "metadata": {
    "colab": {
      "provenance": []
    },
    "kernelspec": {
      "name": "python3",
      "display_name": "Python 3"
    },
    "language_info": {
      "name": "python"
    }
  },
  "cells": [
    {
      "cell_type": "markdown",
      "source": [
        "Files, exceptional handling, logging and\n",
        "memory management Questions"
      ],
      "metadata": {
        "id": "KoOHXzeg-PIs"
      }
    },
    {
      "cell_type": "code",
      "source": [
        "#Question1 What is the difference between interpreted and compiled languages?\n",
        "\n",
        "#Answer  Interpreted Languages :\n",
        "# Executed line-by-line by an interpreter at runtime.\n",
        "# No separate compilation step; code runs directly without needing a compiled executable.\n",
        "# Generally slower than compiled languages since each line is processed immediately as it runs, instead of being converted into machine code ahead of time.\n",
        "# More flexible and easier to debug, as errors are detected at runtime.\n",
        "# Platform-independent (as long as an interpreter is available).\n",
        "# Examples: Python, JavaScript, Ruby, PHP\n",
        "\n",
        "## Compiled Languages\n",
        "# Translated into machine code by a compiler before execution.\n",
        "# Generates an executable file that runs directly on the target system.\n",
        "# Faster execution than interpreted languages because there is no runtime translation.\n",
        "# Requires recompilation after code changes.\n",
        "# More optimized for performance and resource usage.\n",
        "# Examples: C, C++, Rust, Go\n",
        "\n"
      ],
      "metadata": {
        "id": "ZUa_aQRh-ZZM"
      },
      "execution_count": null,
      "outputs": []
    },
    {
      "cell_type": "code",
      "source": [
        "#Question2 What is exception handling in Python?\n",
        "\n",
        "#Answer Exception handling in Python helps you deal with errors without making your program crash. Instead of stopping everything when something goes wrong, Python lets you catch and fix the issue so the program can keep running smoothly. It’s like having a safety net for unexpected problems.\n",
        "\n",
        "# try block: This contains the code that might raise an exception.\n",
        "\n",
        "# except block: This defines how to handle specific exceptions.\n",
        "\n",
        "# finally block: This contains code that will execute regardless of whether an exception was raised or not.\n",
        "\n",
        "try:\n",
        "   #this code with raise an error\n",
        "    result = 10 / 0\n",
        "except ZeroDivisionError:\n",
        "    # Code to handle the exception\n",
        "    print(\"You can't divide by zero!\")\n",
        "finally:\n",
        "    # Code that will run no matter what\n",
        "    print(\"This will always execute.\")\n"
      ],
      "metadata": {
        "colab": {
          "base_uri": "https://localhost:8080/"
        },
        "id": "khoXKIAnACJH",
        "outputId": "8827835e-df59-4b42-ffdf-4ccfb6cee57b"
      },
      "execution_count": 1,
      "outputs": [
        {
          "output_type": "stream",
          "name": "stdout",
          "text": [
            "You can't divide by zero!\n",
            "This will always execute.\n"
          ]
        }
      ]
    },
    {
      "cell_type": "code",
      "source": [
        "#Question3 What is the purpose of the finally block in exception handling?\n",
        "\n",
        "#Answer The purpose of the finally block in exception handling is to ensure that a piece of code runs no matter what, whether an exception is raised or not.\n",
        "\n",
        "try:\n",
        "   #this code with raise an error\n",
        "    result = 10 / 0\n",
        "except ZeroDivisionError:\n",
        "    # Code to handle the exception\n",
        "    print(\"You can't divide by zero!\")\n",
        "finally:\n",
        "    # Code that will run no matter what\n",
        "    print(\"This will always execute.\")"
      ],
      "metadata": {
        "colab": {
          "base_uri": "https://localhost:8080/"
        },
        "id": "8PQeE6YyB_dM",
        "outputId": "aa2190fa-2c17-49a8-ddcc-b7cda1bd20db"
      },
      "execution_count": 2,
      "outputs": [
        {
          "output_type": "stream",
          "name": "stdout",
          "text": [
            "You can't divide by zero!\n",
            "This will always execute.\n"
          ]
        }
      ]
    },
    {
      "cell_type": "code",
      "source": [
        "#Question4  What is logging in Python?\n",
        "\n",
        "#Answer Logging in Python is like keeping a journal for your program. It lets you record important events, track issues, and monitor how things are going behind the scenes, all without flooding your screen with endless messages."
      ],
      "metadata": {
        "id": "3TEW2CL8CSqF"
      },
      "execution_count": null,
      "outputs": []
    },
    {
      "cell_type": "code",
      "source": [
        "#Question5 What is the significance of the __del__ method in Python?\n",
        "\n",
        "#Answer The __del__ method in Python, also known as a destructor, is a special method that is called when an object is about to be destroyed. It's used to clean up resources that the object may have acquired during its lifetime, such as closing files or releasing network connections.\n",
        "\n",
        "#Significance:\n",
        "\n",
        "# Resource Management: It ensures resources like files or connections are properly closed, avoiding leaks.\n",
        "\n",
        "# Automatic Invocation: It’s called automatically when the object is no longer needed, handling cleanup without extra work.\n",
        "\n",
        "# Error Handling: It lets you handle final cleanup or log errors before the object is gone."
      ],
      "metadata": {
        "id": "45yLUZN4CrEQ"
      },
      "execution_count": null,
      "outputs": []
    },
    {
      "cell_type": "code",
      "source": [
        "#Question6  What is the difference between import and from ... import in Python?\n",
        "\n",
        "#Answer import: Loads the entire module, and you access its functions or classes using the module name.\n",
        "\n",
        "# from ... import: Imports specific functions or classes directly, so you can use them without the module name.\n"
      ],
      "metadata": {
        "id": "-sMZZJ_MDfgV"
      },
      "execution_count": null,
      "outputs": []
    },
    {
      "cell_type": "code",
      "source": [
        "#Question7 How can you handle multiple exceptions in Python?\n",
        "\n",
        "#Answer  you can handle multiple exceptions by using multiple except blocks or by catching multiple exceptions in a single except block.\n",
        "\n",
        "# Multiple except Blocks\n",
        "try:\n",
        "    # Code that might raise multiple exceptions\n",
        "    result = int(input(\"Enter a number: \"))\n",
        "    result = 10 / result\n",
        "except ValueError:\n",
        "    print(\"Please enter a valid number!\")\n",
        "except ZeroDivisionError:\n",
        "    print(\"You can't divide by zero!\")\n",
        "\n",
        "# Single except Block with Multiple Exceptions\n",
        "\n",
        "try:\n",
        "    # Code that might raise multiple exceptions\n",
        "    result = int(input(\"Enter a number: \"))\n",
        "    result = 10 / result\n",
        "except (ValueError, ZeroDivisionError):\n",
        "    print(\"An error occurred!\")\n"
      ],
      "metadata": {
        "id": "hbdEcyRKF9Gl"
      },
      "execution_count": null,
      "outputs": []
    },
    {
      "cell_type": "code",
      "source": [
        "#Question8 What is the purpose of the with statement when handling files in Python?\n",
        "\n",
        "#Answer The with statement is used to handle files more safely and easily in Python. It makes sure that the file is properly closed after its block of code is done, even if an error occurs.\n",
        "with open('example.txt', 'r') as file:\n",
        "    data = file.read()\n",
        "    print(data)\n"
      ],
      "metadata": {
        "id": "6NSXESmBGcIX"
      },
      "execution_count": null,
      "outputs": []
    },
    {
      "cell_type": "code",
      "source": [
        "#Question9 What is the difference between multithreading and multiprocessing?\n",
        "\n",
        "#Answer Multithreading: Runs multiple threads within the same process. It's great for tasks that are I/O-bound, like downloading files or waiting for user input.\n",
        "\n",
        "# Multiprocessing: Runs multiple processes, each with its own memory. It's ideal for CPU-bound tasks, like complex calculations or data processing.\n"
      ],
      "metadata": {
        "id": "ZYlDK19sG9Zj"
      },
      "execution_count": null,
      "outputs": []
    },
    {
      "cell_type": "code",
      "source": [
        "#Question10 What are the advantages of using logging in a program?\n",
        "\n",
        "#Answer Catch Errors: Helps you spot and understand errors quickly, making it easier to fix issues.\n",
        "\n",
        "# Track Events: Logs important actions, so you know exactly what happened and when.\n",
        "\n",
        "# Monitor Performance: You can keep an eye on how long tasks take, helping you spot performance issues.\n",
        "\n",
        "# No Clutter: Instead of printing messages everywhere, logs can be saved to files, keeping your screen clean.\n",
        "\n",
        "# Easier Troubleshooting: Logs give you more context to figure out what went wrong, so you can solve problems faster.\n",
        "\n",
        "# Save Information: Logs can be stored, so you have a record of everything that happened while the program ran.\n",
        "\n",
        "\n",
        "\n",
        "\n",
        "\n",
        "\n",
        "\n"
      ],
      "metadata": {
        "id": "hhr6l3bJHoMH"
      },
      "execution_count": null,
      "outputs": []
    },
    {
      "cell_type": "code",
      "source": [
        "#Question11 What is memory management in Python?\n",
        "\n",
        "#Answer Memory management in Python is how Python automatically handles memory while your program runs. It takes care of:\n",
        "\n",
        "# Garbage Collection: Frees up memory that’s no longer in use.\n",
        "# Reference Counting: Tracks how many times an object is used and deletes it when it’s no longer needed.\n",
        "# Memory Pools: Reuses memory efficiently to speed up your program."
      ],
      "metadata": {
        "id": "7izN2NhIIMkb"
      },
      "execution_count": null,
      "outputs": []
    },
    {
      "cell_type": "code",
      "source": [
        "#Question12 What are the basic steps involved in exception handling in Python?\n",
        "\n",
        "#Answer The basic steps involved in exception handling in Python are:\n",
        "\n",
        "# Try Block: Write the code that might raise an exception inside a try block.\n",
        "\n",
        "# Except Block: Catch and handle the exception using an except block if an error occurs."
      ],
      "metadata": {
        "id": "Bw2CQ_B4In23"
      },
      "execution_count": null,
      "outputs": []
    },
    {
      "cell_type": "code",
      "source": [
        "#Question13 Why is memory management important in Python?\n",
        "\n",
        "#Answer Memory management in Python is important because it:\n",
        "\n",
        "# Prevents memory leaks by automatically freeing unused memory.\n",
        "\n",
        "# Improves performance by using memory efficiently.\n",
        "\n",
        "# Simplifies development by handling memory allocation and cleanup for you.\n",
        "\n",
        "# Handles large data without crashing."
      ],
      "metadata": {
        "id": "SZN-UfSyI3mP"
      },
      "execution_count": null,
      "outputs": []
    },
    {
      "cell_type": "code",
      "source": [
        "#Question14 What is the role of try and except in exception handling?\n",
        "\n",
        "#Answer In exception handling:\n",
        "\n",
        "# try: Contains the code that might cause an error.\n",
        "# except: Catches and handles the error if it occurs."
      ],
      "metadata": {
        "id": "P-BA0giQJSX6"
      },
      "execution_count": null,
      "outputs": []
    },
    {
      "cell_type": "code",
      "source": [
        "#Question15  How does Python's garbage collection system work?\n",
        "\n",
        "#Answer Python's garbage collection system works by automatically tracking objects and freeing up memory when they are no longer needed. It uses:\n",
        "\n",
        "# Reference Counting: When an object's reference count drops to zero, it’s automatically deleted.\n",
        "\n",
        "# Garbage Collector: Periodically checks for objects that are no longer in use and clears them."
      ],
      "metadata": {
        "id": "GvleDGrlJ8MN"
      },
      "execution_count": null,
      "outputs": []
    },
    {
      "cell_type": "code",
      "source": [
        "#Question16 What is the purpose of the else block in exception handling?\n",
        "\n",
        "#Answer The else block in exception handling runs only if no exception is raised in the try block. It's used for code that should execute when everything goes smoothly.\n",
        "\n"
      ],
      "metadata": {
        "id": "c93fweCoKTov"
      },
      "execution_count": null,
      "outputs": []
    },
    {
      "cell_type": "code",
      "source": [
        "#Question17  What are the common logging levels in Python0\n",
        "\n",
        "#Answer Common Logging Levels in Python\n",
        "# DEBUG: Detailed information, typically for diagnosing problems.\n",
        "\n",
        "# INFO: Confirmation that things are working as expected.\n",
        "\n",
        "# WARNING: An indication that something unexpected happened, but the program is still running.\n",
        "\n",
        "# ERROR: A more serious problem that prevented the program from performing a function.\n",
        "\n",
        "# CRITICAL: A very serious error, indicating the program may not be able to continue running."
      ],
      "metadata": {
        "id": "K_M0Vc2kKpIy"
      },
      "execution_count": null,
      "outputs": []
    },
    {
      "cell_type": "code",
      "source": [
        "#Question18 What is the difference between os.fork() and multiprocessing in Python?\n",
        "\n",
        "#Answer os.fork() vs. Multiprocessing:\n",
        "\n",
        "# os.fork(): Directly creates a child process. Works only on Unix-like systems. Child process runs the same code as the parent process\n",
        "\n",
        "# Multiprocessing: High-level module to create processes. Works on all platforms. Provides a cleaner, more controlled way to manage processes.\n"
      ],
      "metadata": {
        "id": "bTH-ONVTLEtF"
      },
      "execution_count": null,
      "outputs": []
    },
    {
      "cell_type": "code",
      "source": [
        "#Question19 What is the importance of closing a file in Python?\n",
        "\n",
        "#Answer Closing a file in Python is important because it:\n",
        "\n",
        "# Prevents data loss by ensuring all changes are saved.\n",
        "\n",
        "# Releases system resources, making them available for other tasks.\n",
        "\n",
        "# Prevents memory leaks by freeing up memory used by the file"
      ],
      "metadata": {
        "id": "tubJq4AGLiAw"
      },
      "execution_count": null,
      "outputs": []
    },
    {
      "cell_type": "code",
      "source": [
        "#Question20 What is the difference between file.read() and file.readline() in Python?\n",
        "\n",
        "#Answer file.read(): Reads the entire content of the file as a single string.\n",
        "\n",
        "# file.readline(): Reads one line at a time from the file."
      ],
      "metadata": {
        "id": "KUAtX3HoMABD"
      },
      "execution_count": null,
      "outputs": []
    },
    {
      "cell_type": "code",
      "source": [
        "#Question21  What is the logging module in Python used for?\n",
        "\n",
        "#Answer The logging module in Python is used to track events that happen while a program is running. It's a built-in module in the Python standard library\n",
        "\n",
        "# Tracking Events: Records events and errors in your program.\n",
        "\n",
        "# Debugging: Helps diagnose problems by logging detailed information.\n",
        "\n",
        "# Monitoring: Keeps an eye on the program’s behavior over time.\n",
        "\n",
        "# Audit Trails: Provides a historical record of events for future analysis."
      ],
      "metadata": {
        "id": "A2XRtaT_MZ52"
      },
      "execution_count": null,
      "outputs": []
    },
    {
      "cell_type": "code",
      "source": [
        "#Question22 What is the os module in Python used for in file handling?\n",
        "\n",
        "#Answer The os module in Python provides a way to interact with the operating system, and it's very useful for file handling tasks. Here’s what you can do with it:\n",
        "\n",
        "# File Operations: Create, delete, and move files.\n",
        "os.remove('file.txt')  # Deletes the file\n",
        "\n",
        "# Directory Operations: Create, remove, and navigate directories.\n",
        "os.mkdir('new_folder')  # Creates a new directory\n",
        "os.chdir('new_folder')  # Changes the current working directory\n",
        "os.rmdir('new_folder')  # Removes the directory\n",
        "\n",
        "# Path Operations: Check and manipulate file paths.\n",
        "os.path.exists('file.txt')  # Checks if the file exists\n"
      ],
      "metadata": {
        "id": "XNOhCp-8NQeM"
      },
      "execution_count": null,
      "outputs": []
    },
    {
      "cell_type": "code",
      "source": [
        "#Question23"
      ],
      "metadata": {
        "id": "j5Ok_26cODyh"
      },
      "execution_count": null,
      "outputs": []
    },
    {
      "cell_type": "code",
      "source": [
        "#Question24  How do you raise an exception manually in Python?\n",
        "\n",
        "#Answer\n",
        "raise ExceptionType(\"Error message\")\n"
      ],
      "metadata": {
        "id": "vWCTZW2fOOVD"
      },
      "execution_count": null,
      "outputs": []
    },
    {
      "cell_type": "code",
      "source": [
        "#Question25 Why is it important to use multithreading in certain applications?\n",
        "\n",
        "#Answer Multithreading is important in certain applications because it allows for:\n",
        "\n",
        "# Improved Performance\n",
        "# Better Resource Utilization\n",
        "# Responsiveness\n",
        "# Concurrency"
      ],
      "metadata": {
        "id": "8P-PtEuEOdK0"
      },
      "execution_count": null,
      "outputs": []
    },
    {
      "cell_type": "markdown",
      "source": [
        "**Practical Questions**"
      ],
      "metadata": {
        "id": "UmEHPBtjO6Ql"
      }
    },
    {
      "cell_type": "code",
      "source": [
        "#Question1  How can you open a file for writing in Python and write a string to it?\n",
        "\n",
        "# Open a file for writing\n",
        "with open('example.txt', 'w') as file:\n",
        "    # Write a string to the file\n",
        "    file.write(\"Hello, world!\")\n"
      ],
      "metadata": {
        "id": "MzLWn5MfO_1O"
      },
      "execution_count": null,
      "outputs": []
    },
    {
      "cell_type": "code",
      "source": [
        "#Question2  Write a Python program to read the contents of a file and print each line.\n",
        "\n",
        "# Open the file in read mode\n",
        "with open('example.txt', 'r') as file:\n",
        "    # Read and print each line\n",
        "    for line in file:\n",
        "        print(line.strip())\n"
      ],
      "metadata": {
        "id": "a4cYvvMzPQwK"
      },
      "execution_count": null,
      "outputs": []
    },
    {
      "cell_type": "code",
      "source": [
        "#Question3 How would you handle a case where the file doesn't exist while trying to open it for reading?\n",
        "\n",
        "try:\n",
        "    with open(\"example.txt\", \"r\") as file:\n",
        "        content = file.read()\n",
        "        print(content)\n",
        "except FileNotFoundError as e:\n",
        "    print(f\"An error occurred: {e}\")\n"
      ],
      "metadata": {
        "id": "zRZIxW6qPbAg"
      },
      "execution_count": null,
      "outputs": []
    },
    {
      "cell_type": "code",
      "source": [
        "#Question4 Write a Python script that reads from one file and writes its content to another file.\n",
        "\n",
        "# Open the source file for reading\n",
        "with open(\"source.txt\", \"r\") as source_file:\n",
        "    content = source_file.read()\n",
        "\n",
        "# Open the destination file for writing\n",
        "with open(\"destination.txt\", \"w\") as destination_file:\n",
        "    destination_file.write(content)\n",
        "\n",
        "print(\"Content has been successfully copied to the destination file.\")\n",
        "\n"
      ],
      "metadata": {
        "id": "xpGHUdukQWkX"
      },
      "execution_count": null,
      "outputs": []
    },
    {
      "cell_type": "code",
      "source": [
        " #Question5 How would you catch and handle division by zero error in Python?\n",
        "\n",
        " try:\n",
        "    result = 10 / 0\n",
        "except ZeroDivisionError as e:\n",
        "    print(f\"An error occurred: {e}\")\n"
      ],
      "metadata": {
        "id": "_Sr4grvkSJuq"
      },
      "execution_count": null,
      "outputs": []
    },
    {
      "cell_type": "code",
      "source": [
        "#Question6 Write a Python program that logs an error message to a log file when a division by zero exception occurs?\n",
        "\n",
        "import logging\n",
        "\n",
        "# Set up logging configuration\n",
        "logging.basicConfig(filename=\"error_log.txt\", level=logging.ERROR,\n",
        "                    format=\"%(asctime)s - %(levelname)s - %(message)s\")\n",
        "\n",
        "try:\n",
        "    # Example division operation\n",
        "    result = 10 / 0  # This will cause a division by zero error\n",
        "except ZeroDivisionError as e:\n",
        "    # Log the error message\n",
        "    logging.error(f\"Division by zero error: {e}\")\n",
        "\n",
        "print(\"Error logged to error_log.txt.\")\n"
      ],
      "metadata": {
        "id": "QtLTDl0ySYsL"
      },
      "execution_count": null,
      "outputs": []
    },
    {
      "cell_type": "code",
      "source": [
        "#Question7 How do you log information at different levels (INFO, ERROR, WARNING) in Python using the logging module?\n",
        "\n",
        "import logging\n",
        "\n",
        "# Configure logging\n",
        "logging.basicConfig(level=logging.DEBUG, format='%(asctime)s - %(levelname)s - %(message)s')\n",
        "\n",
        "# Log messages at different levels\n",
        "logging.debug('This is a debug message')\n",
        "logging.info('This is an info message')\n",
        "logging.warning('This is a warning message')\n",
        "logging.error('This is an error message')\n",
        "logging.critical('This is a critical message')\n"
      ],
      "metadata": {
        "id": "dswG3GvDSqMF"
      },
      "execution_count": null,
      "outputs": []
    },
    {
      "cell_type": "code",
      "source": [
        "#Question8 Write a program to handle a file opening error using exception handling.\n",
        "\n",
        "try:\n",
        "    # Attempt to open a file for reading\n",
        "    with open(\"example.txt\", \"r\") as file:\n",
        "        content = file.read()\n",
        "        print(content)\n",
        "except FileNotFoundError as e:\n",
        "    print(f\"Error: {e}\")\n"
      ],
      "metadata": {
        "id": "GeZDIiY_S5Xu"
      },
      "execution_count": null,
      "outputs": []
    },
    {
      "cell_type": "code",
      "source": [
        "#Question9  How can you read a file line by line and store its content in a list in Python?\n",
        "\n",
        "# Step 1: Create example.txt with sample content\n",
        "content = \"\"\"Hello, world!\n",
        "This is a test file.\n",
        "This file contains multiple lines.\n",
        "Reading it line by line.\n",
        "\"\"\"\n",
        "\n",
        "# Open example.txt in write mode and write the content\n",
        "with open('example.txt', 'w') as file:\n",
        "    file.write(content)\n",
        "\n",
        "print(\"example.txt has been created with the specified content.\")\n",
        "\n",
        "with open('example.txt', 'r') as file:\n",
        "    lines = [line.strip() for line in file]\n",
        "\n",
        "print(\"Content of the file stored in a list:\")\n",
        "print(lines)\n"
      ],
      "metadata": {
        "id": "XQzv1UuhS_86"
      },
      "execution_count": null,
      "outputs": []
    },
    {
      "cell_type": "code",
      "source": [
        "#Question10 How can you append data to an existing file in Python?\n",
        "\n",
        "new_data = \"\"\"This is an appended line.\n",
        "Another appended line.\n",
        "\"\"\"\n",
        "\n",
        "# Open the file in append mode and write the new data\n",
        "with open('example.txt', 'a') as file:\n",
        "    file.write(new_data)\n",
        "\n",
        "print(\"Data has been appended to the file.\")\n"
      ],
      "metadata": {
        "id": "l_TnMUzWUjfK"
      },
      "execution_count": null,
      "outputs": []
    },
    {
      "cell_type": "code",
      "source": [
        "#Question11 Write a Python program that uses a try-except block to handle an error when attempting to access a dictionary key that doesn't exist.\n",
        "\n",
        "# Define a dictionary with some key-value pairs\n",
        "my_dict = {'name': 'Sheeta', 'age': 25, 'city': 'Agra'}\n",
        "\n",
        "# Try to access a key that might not exist\n",
        "try:\n",
        "    value = my_dict['country']\n",
        "except KeyError as e:\n",
        "    print(f\"KeyError: {e}\")\n",
        "\n",
        "# Optional: Handling the case with a default value\n",
        "default_value = my_dict.get('country', 'Not Found')\n",
        "print(f\"Country: {default_value}\")\n",
        "\n"
      ],
      "metadata": {
        "id": "n0JIHiQWWVnu"
      },
      "execution_count": null,
      "outputs": []
    },
    {
      "cell_type": "code",
      "source": [
        "#Question12  Write a program that demonstrates using multiple except blocks to handle different types of exceptionsF\n",
        "\n",
        "try:\n",
        "    # User input for division operation\n",
        "    numerator = int(input(\"Enter numerator: \"))\n",
        "    denominator = int(input(\"Enter denominator: \"))\n",
        "\n",
        "    # Perform division\n",
        "    result = numerator / denominator\n",
        "    print(f\"The result of {numerator} / {denominator} is {result}\")\n",
        "\n",
        "except ZeroDivisionError:\n",
        "    # Handle division by zero error\n",
        "    print(\"Error: Cannot divide by zero!\")\n",
        "\n",
        "except ValueError:\n",
        "    # Handle invalid input (non-integer input)\n",
        "    print(\"Error: Please enter valid integers.\")\n",
        "\n",
        "except Exception as e:\n",
        "    # Catch any other exceptions\n",
        "    print(f\"An unexpected error occurred: {e}\")\n"
      ],
      "metadata": {
        "id": "KP1ssaClWqef"
      },
      "execution_count": null,
      "outputs": []
    },
    {
      "cell_type": "code",
      "source": [
        "#Question13 How would you check if a file exists before attempting to read it in Python?\n",
        "\n",
        "import os\n",
        "\n",
        "file_path = \"example.txt\"\n",
        "\n",
        "# Check if the file exists\n",
        "if os.path.exists(file_path):\n",
        "    with open(file_path, \"r\") as file:\n",
        "        content = file.read()\n",
        "        print(content)\n",
        "else:\n",
        "    print(f\"The file {file_path} does not exist.\")\n"
      ],
      "metadata": {
        "id": "-PS4sIGNW6V4"
      },
      "execution_count": null,
      "outputs": []
    },
    {
      "cell_type": "code",
      "source": [
        "#Question14 Write a program that uses the logging module to log both informational and error messages.\n",
        "\n",
        "import logging\n",
        "\n",
        "logging.basicConfig(filename=\"app.log\", level=logging.INFO,\n",
        "                    format='%(asctime)s - %(levelname)s - %(message)s')\n",
        "\n",
        "logging.info(\"This is an informational message.\")\n",
        "\n",
        "try:\n",
        "    result = 10 / 0\n",
        "except ZeroDivisionError as e:\n",
        "    logging.error(f\"Error occurred: {e}\")\n",
        "\n",
        "logging.info(\"Program completed.\")\n"
      ],
      "metadata": {
        "id": "zEJKuPAEXR9E"
      },
      "execution_count": null,
      "outputs": []
    },
    {
      "cell_type": "code",
      "source": [
        "#Question15  Write a Python program that prints the content of a file and handles the case when the file is empty?\n",
        "\n",
        "try:\n",
        "    with open(\"example.txt\", \"r\") as file:\n",
        "        content = file.read()\n",
        "        if content:\n",
        "            print(content)\n",
        "        else:\n",
        "            print(\"The file is empty.\")\n",
        "except FileNotFoundError:\n",
        "    print"
      ],
      "metadata": {
        "id": "w5QDHjDuYBTB"
      },
      "execution_count": null,
      "outputs": []
    },
    {
      "cell_type": "code",
      "source": [
        "#Question16 Demonstrate how to use memory profiling to check the memory usage of a small program.\n",
        "\n",
        "import psutil\n",
        "import os\n",
        "import time\n",
        "\n",
        "def memory_usage():\n",
        "\n",
        "    process = psutil.Process(os.getpid())\n",
        "    return process.memory_info().rss\n",
        "\n",
        "def test_function():\n",
        "    a = [i for i in range(1000000)]\n",
        "    b = [i**2 for i in range(1000000)]\n",
        "    time.sleep(2)\n",
        "    del b\n",
        "    return a\n",
        "\n",
        "if __name__ == \"__main__\":\n",
        "    print(f\"Memory usage before function: {memory_usage() / (1024 ** 2):.2f} MB\")\n",
        "\n",
        "    test_function()\n",
        "\n",
        "    print(f\"Memory usage after function: {memory_usage() / (1024 ** 2):.2f} MB\")"
      ],
      "metadata": {
        "id": "P0e4Dy_-YcpL"
      },
      "execution_count": null,
      "outputs": []
    },
    {
      "cell_type": "code",
      "source": [
        "#Question17 Write a Python program to create and write a list of numbers to a file, one number per line?\n",
        "\n",
        "# Define the list of numbers\n",
        "numbers = [1, 2, 3, 4, 5, 6, 7, 8, 9, 10]\n",
        "\n",
        "# Open the file in write mode\n",
        "with open('numbers.txt', 'w') as file:\n",
        "    # Write each number to the file, one per line\n",
        "    for number in numbers:\n",
        "        file.write(f\"{number}\\n\")\n",
        "\n",
        "print(\"The list of numbers has been written to numbers.txt.\")\n",
        "\n",
        "with open('numbers.txt', 'r') as file:\n",
        "    content = file.read()\n",
        "    print(content)"
      ],
      "metadata": {
        "id": "BNOny_THZRRK"
      },
      "execution_count": null,
      "outputs": []
    },
    {
      "cell_type": "code",
      "source": [
        "#Question18  How would you implement a basic logging setup that logs to a file with rotation after 1MB\u001f\n",
        "\n"
      ],
      "metadata": {
        "id": "TFGyru9WaMa3"
      },
      "execution_count": null,
      "outputs": []
    },
    {
      "cell_type": "code",
      "source": [
        "#Question19 Write a program that handles both IndexError and KeyError using a try-except block.\n",
        "\n",
        "try:\n",
        "\n",
        "    my_list = [1, 2, 3]\n",
        "\n",
        "    print(my_list[5])\n",
        "\n",
        "\n",
        "    my_dict = {'name': 'Alice', 'age': 25}\n",
        "\n",
        "    print(my_dict['city'])\n",
        "\n",
        "except IndexError as e:\n",
        "    print(f\"IndexError occurred: {e}\")\n",
        "except KeyError as e:\n",
        "    print(f\"KeyError occurred: {e}\")\n",
        "except Exception as e:\n",
        "    print(f\"An unexpected error occurred: {e}\")\n",
        "\n",
        "print(\"Program completed.\")\n"
      ],
      "metadata": {
        "id": "6oQIhPkPaoTg"
      },
      "execution_count": null,
      "outputs": []
    },
    {
      "cell_type": "code",
      "source": [
        "#Question20 How would you open a file and read its contents using a context manager in Python?\n",
        "\n",
        "# Use a context manager to open the file\n",
        "with open('example.txt', 'r') as file:\n",
        "    # Read the contents of the file\n",
        "    content = file.read()\n",
        "\n",
        "# Print the contents of the file\n",
        "print(content)\n",
        "\n"
      ],
      "metadata": {
        "id": "Kl-674BNbA2E"
      },
      "execution_count": null,
      "outputs": []
    },
    {
      "cell_type": "code",
      "source": [
        "#Question21 Write a Python program that reads a file and prints the number of occurrences of a specific word.\n",
        "\n",
        "content = \"\"\"Hello, world!\n",
        "This is a test file.\n",
        "Test the file functionality.\n",
        "\"\"\"\n",
        "\n",
        "with open('example.txt', 'w') as file:\n",
        "    file.write(content)\n",
        "\n",
        "print(\"example.txt has been created with the specified content.\")\n",
        "\n",
        "\n",
        "def count_word_occurrences(filename, word):\n",
        "    with open(filename, 'r') as file:\n",
        "        return sum(line.lower().split().count(word.lower()) for line in file)\n",
        "\n",
        "\n",
        "filename = 'example.txt'\n",
        "word = 'test'\n",
        "\n",
        "\n",
        "print(f\"The word '{word}' occurs {count_word_occurrences(filename, word)} times in the file '{filename}'.\")\n"
      ],
      "metadata": {
        "id": "esj73Cj_bXtl"
      },
      "execution_count": null,
      "outputs": []
    },
    {
      "cell_type": "code",
      "source": [
        "#Question22 How can you check if a file is empty before attempting to read its contents?\n",
        "import os\n",
        "\n",
        "file_path = 'example.txt'\n",
        "\n",
        "if os.path.exists(file_path) and os.path.getsize(file_path) > 0:\n",
        "    with open(file_path, 'r') as file:\n",
        "        content = file.read()\n",
        "        print(\"File content:\")\n",
        "        print(content)\n",
        "else:\n",
        "    print(\"The file is either empty or does not exist.\")\n",
        "\n"
      ],
      "metadata": {
        "id": "TWb4n9FAc8Rv"
      },
      "execution_count": null,
      "outputs": []
    },
    {
      "cell_type": "code",
      "source": [
        "#Question23 Write a Python program that writes to a log file when an error occurs during file handling.\n",
        "\n",
        "import logging\n",
        "\n",
        "logging.basicConfig(filename='error.log', level=logging.ERROR, format='%(asctime)s - %(levelname)s - %(message)s')\n",
        "\n",
        "file_path = 'example.txt'\n",
        "\n",
        "try:\n",
        "    with open(file_path, 'r') as file:\n",
        "        content = file.read()\n",
        "        print(content)\n",
        "except Exception as e:\n",
        "    logging.error(e)\n",
        "    print(\"An error occurred. Check the log file for more details.\")\n",
        "\n",
        "print(\"Program completed.\")\n"
      ],
      "metadata": {
        "id": "jyp0vQwwdOvo"
      },
      "execution_count": null,
      "outputs": []
    }
  ]
}