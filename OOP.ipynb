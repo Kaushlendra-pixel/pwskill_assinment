{
  "cells": [
    {
      "cell_type": "markdown",
      "source": [
        "                                                                         \n",
        "                                                                          \n",
        "                                                                           \n",
        "                                                                            \n",
        "                                                                             \n",
        "                                                                              \n",
        "                                                                               \n",
        "                                                                                \n",
        "                                                                                 **Python OOPs Questions**"
      ],
      "metadata": {
        "id": "-YQHh0BKL5OX"
      }
    },
    {
      "cell_type": "code",
      "source": [
        "#Question1 What is Object-Oriented Programming (OOP)?\n",
        "\n",
        "#Answer Object-Oriented Programming (OOP) is a way to structure software using classes (blueprints) and objects (instances). The four main principles are:\n"
      ],
      "metadata": {
        "id": "yoBs5lTgMAYr"
      },
      "execution_count": null,
      "outputs": []
    },
    {
      "cell_type": "code",
      "source": [
        "#Question2 What is a class in OOP?\n",
        "\n",
        "#Answer  class in OOP is a blueprint or template for creating objects. It defines a set of attributes (data) and methods (functions)."
      ],
      "metadata": {
        "id": "4mmW1JB6SjbO"
      },
      "execution_count": null,
      "outputs": []
    },
    {
      "cell_type": "code",
      "source": [
        "#Question3 What is an object in OOP?\n",
        "\n",
        "#Answer An object in OOP is an instance of a class. It represents a real-world entity with attributes (data) and methods (behavior).\n",
        "\n",
        "class Car:\n",
        "    def __init__(self, brand):\n",
        "        self.brand = brand\n",
        "\n",
        "car1 = Car(\"Toyota\")\n",
        "print(car1.brand)\n"
      ],
      "metadata": {
        "colab": {
          "base_uri": "https://localhost:8080/"
        },
        "id": "Dxm_R8dYUk4k",
        "outputId": "0523f018-a964-4f68-f8cd-e14ae0f368a6"
      },
      "execution_count": 1,
      "outputs": [
        {
          "output_type": "stream",
          "name": "stdout",
          "text": [
            "Toyota\n"
          ]
        }
      ]
    },
    {
      "cell_type": "code",
      "source": [
        "#Question4  What is the difference between abstraction and encapsulation?\n",
        "\n",
        "#Answer Abstraction\n",
        "# Purpose: Simplifies complex systems by modeling classes that represent real-world entities.\n",
        "\n",
        "# Focus: Hides the implementation details and shows only the essential features of an object.\n",
        "\n",
        "# Example: A Car class that only exposes methods like drive() and brake() without revealing the complex internal workings of the engine.\n",
        "\n",
        "from abc import ABC, abstractmethod\n",
        "\n",
        "class Animal(ABC):  # Abstract class\n",
        "    @abstractmethod\n",
        "    def make_sound(self):\n",
        "        pass  # Method must be implemented by subclasses\n",
        "\n",
        "class Dog(Animal):\n",
        "    def make_sound(self):\n",
        "        return \"Woof!\"\n",
        "\n",
        "dog = Dog()\n",
        "print(dog.make_sound())\n",
        "\n",
        "\n",
        "# Encapsulation\n",
        "# Purpose: Bundles data (attributes) and methods (functions) that operate on the data into a single unit (class).\n",
        "\n",
        "# Focus: Protects the data by restricting direct access to some of the object's components, making sure that the data is safe from outside interference and misuse.\n",
        "\n",
        "# Example: A Car class with private attributes like _make, _model, and _year, and public methods like get_info() to access those attributes.\n",
        "\n",
        "class BankAccount:\n",
        "    def __init__(self, balance):\n",
        "        self.__balance = balance  # Private variable\n",
        "\n",
        "    def get_balance(self):\n",
        "        return self.__balance  # Controlled access\n",
        "\n",
        "account = BankAccount(1000)\n",
        "print(account.get_balance())  # Output: 1000\n"
      ],
      "metadata": {
        "colab": {
          "base_uri": "https://localhost:8080/"
        },
        "id": "QPT8FF0SVOC3",
        "outputId": "a525e980-0117-4e10-bba0-5bf7db01ad1c"
      },
      "execution_count": 2,
      "outputs": [
        {
          "output_type": "stream",
          "name": "stdout",
          "text": [
            "Woof!\n",
            "1000\n"
          ]
        }
      ]
    },
    {
      "cell_type": "code",
      "source": [
        "#Question5 What are dunder methods in Python?\n",
        "\n",
        "#Answer Dunder methods, short for \"double underscore\" methods, are special methods in Python that have double underscores before and after their names (e.g., __init__). These methods are also known as \"magic methods\" because they allow you to define the behavior of objects for specific operations. They are automatically invoked by Python in certain situations.\n",
        "\n",
        "# Here are some common dunder methods:\n",
        "\n",
        "#1 __init__: Constructor method, called when an object is created.\n",
        "class MyClass:\n",
        "    def __init__(self, value):\n",
        "        self.value = value\n",
        "obj1 = MyClass(10)\n",
        "print(obj1.value)\n",
        "\n",
        "#2 __str__: Defines the string representation of the object.\n",
        "\n",
        "class MyClass:\n",
        "    def __init__(self, value):\n",
        "        self.value = value\n",
        "    def __str__(self):\n",
        "        return f\"MyClass with value {self.value}\"\n",
        "\n",
        "obj1 = MyClass(10)\n",
        "print(str(obj1))\n",
        "\n",
        "#3 __repr__: Defines the \"official\" string representation of the object, useful for debugging.\n",
        "\n",
        "class MyClass:\n",
        "    def __init__(self, value):\n",
        "        self.value = value\n",
        "\n",
        "    def __repr__(self):\n",
        "        return f\"MyClass({self.value})\"\n",
        "\n",
        "obj2 = MyClass(20)\n",
        "print(repr(obj2))\n",
        "\n",
        "#4 __len__: Defines the behavior of the len() function.\n",
        "\n",
        "class MyClass:\n",
        "    def __init__(self, value):\n",
        "        self.value = value\n",
        "    def __len__(self):\n",
        "        return len(self.value)\n",
        "obj3 = MyClass([1, 2, 3, 4])\n",
        "print(len(obj3))\n",
        "\n",
        "#5 __eq__: Defines the behavior of the equality operator ==.\n",
        "\n",
        "class MyClass:\n",
        "    def __init__(self, value):\n",
        "        self.value = value\n",
        "    def __eq__(self, other):\n",
        "        return self.value == other.value\n",
        "obj4 = MyClass(30)\n",
        "obj5 = MyClass(30)\n",
        "print(obj4 == obj5)\n",
        "\n",
        "#6 __add__: Defines the behavior of the addition operator +.\n",
        "\n",
        "class MyClass:\n",
        "    def __init__(self, value):\n",
        "        self.value = value\n",
        "    def __add__(self, other):\n",
        "        return MyClass(self.value + other.value)\n",
        "obj6 = MyClass(40)\n",
        "obj7 = MyClass(60)\n",
        "result = obj6 + obj7\n",
        "print(result.value)\n"
      ],
      "metadata": {
        "colab": {
          "base_uri": "https://localhost:8080/"
        },
        "id": "0DhDMGHUWmnY",
        "outputId": "7f17758e-413e-43e9-eae8-d29b1bb68ea3"
      },
      "execution_count": 16,
      "outputs": [
        {
          "output_type": "stream",
          "name": "stdout",
          "text": [
            "10\n",
            "MyClass with value 10\n",
            "MyClass(20)\n",
            "4\n",
            "True\n",
            "100\n"
          ]
        }
      ]
    },
    {
      "cell_type": "code",
      "source": [
        "#Question6 Explain the concept of inheritance in OOP.\n",
        "\n",
        "#Answer Inheritance is a fundamental concept in Object-Oriented Programming (OOP) that allows a class to inherit attributes and methods from another class. This promotes code reuse, modularity, and a hierarchical classification.\n",
        "\n",
        "# Key Points of Inheritance:\n",
        "\n",
        "## Parent Class (Base Class or Superclass): The class whose attributes and methods are inherited.\n",
        "\n",
        "##Child Class (Derived Class or Subclass): The class that inherits from the parent class."
      ],
      "metadata": {
        "id": "HPDoj_dmbhah"
      },
      "execution_count": null,
      "outputs": []
    },
    {
      "cell_type": "code",
      "source": [
        "#Question7 What is polymorphism in OOP?\n",
        "\n",
        "#Answer Polymorphism is a fundamental concept in Object-Oriented Programming (OOP) that allows objects of different classes to be treated as objects of a common superclass. It provides a way to perform a single action in different forms, making the code more flexible and easier to maintain.\n",
        "\n",
        "# Explanation:\n",
        "# Parent Class (Animal): Defines a generic method speak().\n",
        "\n",
        "# Child Classes (Dog and Cat): Override the speak() method to provide specific implementations.\n",
        "\n",
        "# Polymorphism in Action: The function animal_speak() can take any object that is an instance of the Animal class or its subclasses and call the speak() method. This allows the same function call to produce different results based on the object type."
      ],
      "metadata": {
        "id": "8KWOSLqAcC70"
      },
      "execution_count": null,
      "outputs": []
    },
    {
      "cell_type": "code",
      "source": [
        "#Question8 How is encapsulation achieved in Python?\n",
        "\n",
        "#Answer Encapsulation is the concept of bundling data and methods within a class and restricting access to certain details. In Python, this is achieved using public, protected, and private access modifiers:\n",
        "\n",
        "# Public Attributes and Methods:\n",
        "## Accessible from anywhere, with no restrictions.\n",
        "\n",
        "# Protected Attributes and Methods:\n",
        "## Conventionally accessed only within the class and its subclasses, marked by a single underscore prefix.\n",
        "\n",
        "# Private Attributes and Methods:\n",
        "## Enforced by Python’s name mangling, these are made inaccessible from outside the class directly, and are marked by a double underscore prefix. If needed, they can be accessed via public methods."
      ],
      "metadata": {
        "id": "u5OMyloNc9k0"
      },
      "execution_count": null,
      "outputs": []
    },
    {
      "cell_type": "code",
      "source": [
        "#Question9 What is a constructor in Python?\n",
        "\n",
        "#Answer A constructor in Python is a special method used to initialize a newly created object. It is automatically called when an object of a class is created. The constructor method is defined using the __init__() method.\n"
      ],
      "metadata": {
        "id": "SdAbkyX9c5_i"
      },
      "execution_count": null,
      "outputs": []
    },
    {
      "cell_type": "code",
      "source": [
        "#Question10 What are class and static methods in Python?\n",
        "\n",
        "#Answer Class methods are methods that are bound to the class itself, not to an instance of the class. They can modify the class state that applies across all instances of the class. To define a class method, use the @classmethod decorator, and the first parameter is cls (which stands for the class).\n",
        "\n",
        "class MyClass:\n",
        "    class_variable = 0\n",
        "\n",
        "    @classmethod\n",
        "    def set_class_variable(cls, value):\n",
        "        cls.class_variable = value\n",
        "\n",
        "    @classmethod\n",
        "    def get_class_variable(cls):\n",
        "        return cls.class_variable\n",
        "\n",
        "# Using class methods\n",
        "MyClass.set_class_variable(10)\n",
        "print(MyClass.get_class_variable())\n",
        "\n",
        "# Static Methods\n",
        "## Static methods are methods that do not depend on the class or instance variables. They behave like regular functions but belong to the class's namespace. To define a static method, use the @staticmethod decorator. Static methods do not take self or cls as the first parameter.\n",
        "\n",
        "class MyClass:\n",
        "    @staticmethod\n",
        "    def add_numbers(a, b):\n",
        "        return a + b\n",
        "\n",
        "# Using static methods\n",
        "result = MyClass.add_numbers(5, 3)\n",
        "print(result)\n"
      ],
      "metadata": {
        "colab": {
          "base_uri": "https://localhost:8080/"
        },
        "id": "R_OuVwlSe0h_",
        "outputId": "0af2fc5e-2d07-4584-862d-b1d12094767f"
      },
      "execution_count": 17,
      "outputs": [
        {
          "output_type": "stream",
          "name": "stdout",
          "text": [
            "10\n",
            "8\n"
          ]
        }
      ]
    },
    {
      "cell_type": "code",
      "source": [
        "#Question11 What is method overloading in Python?\n",
        "\n",
        "#Answer Method overloading in Python is not supported in the traditional sense. Instead, Python allows you to achieve similar functionality using default arguments or variable-length argument lists (*args and **kwargs).\n",
        "\n",
        "# Example with Default Arguments:\n",
        "\n",
        "def add(a, b=0, c=0):\n",
        "    return a + b + c\n",
        "\n",
        "print(add(1))\n",
        "print(add(1, 2))\n",
        "print(add(1, 2, 3))\n",
        "\n",
        "#Example with Variable-Length Arguments:\n",
        "\n",
        "def add(*args):\n",
        "    return sum(args)\n",
        "\n",
        "print(add(1))\n",
        "print(add(1, 2))\n",
        "print(add(1, 2, 3))"
      ],
      "metadata": {
        "colab": {
          "base_uri": "https://localhost:8080/"
        },
        "id": "eatJNQgjffiL",
        "outputId": "22009624-ddd8-4abe-e969-d0088c843f41"
      },
      "execution_count": 19,
      "outputs": [
        {
          "output_type": "stream",
          "name": "stdout",
          "text": [
            "1\n",
            "3\n",
            "6\n",
            "1\n",
            "3\n",
            "6\n"
          ]
        }
      ]
    },
    {
      "cell_type": "code",
      "source": [
        "#Question12 What is method overriding in OOP?\n",
        "\n",
        "#AnswerMethod overriding in OOP allows a subclass to provide a specific implementation of a method already defined in its parent class. This lets the subclass customize or extend the behavior of the inherited method.\n",
        "\n",
        "# Superclass:\n",
        "## The class that provides the original implementation of the method.\n",
        "\n",
        "# Subclass:\n",
        "## The class that overrides the method to provide a new implementation.\n",
        "\n",
        "# Same Method Signature:\n",
        "## The overridden method in the subclass must have the same name, parameters, and return type as the method in the superclass.\n",
        "\n",
        "class Animal:\n",
        "    def speak(self):\n",
        "        return \"Animal makes a sound\"\n",
        "\n",
        "class Dog(Animal):\n",
        "    def speak(self):\n",
        "        return \"Woof!\"\n",
        "\n",
        "dog = Dog()\n",
        "print(dog.speak())"
      ],
      "metadata": {
        "colab": {
          "base_uri": "https://localhost:8080/"
        },
        "id": "nL5LWDjqgizB",
        "outputId": "bcffbf57-e6af-42b9-b97f-6b06bccbbcd0"
      },
      "execution_count": 20,
      "outputs": [
        {
          "output_type": "stream",
          "name": "stdout",
          "text": [
            "Woof!\n"
          ]
        }
      ]
    },
    {
      "cell_type": "code",
      "source": [
        "#Question13 What is a property decorator in Python?\n",
        "\n",
        "#Answer A property decorator in Python is used to define methods in a class that behave like attributes. This lets you control access to instance attributes with getter, setter, and deleter methods, all while using attribute-style access.\n",
        "\n",
        "# Key Points:\n",
        "# Getter: Retrieves the value of an attribute.\n",
        "\n",
        "## Setter: Sets the value of an attribute.\n",
        "\n",
        "### Deleter: Deletes an attribute.\n",
        "\n",
        "class MyClass:\n",
        "    def __init__(self, value):\n",
        "        self._value = value\n",
        "\n",
        "    @property\n",
        "    def value(self):\n",
        "        return self._value\n",
        "\n",
        "    @value.setter\n",
        "    def value(self, new_value):\n",
        "        if new_value < 0:\n",
        "            raise ValueError(\"Value must be non-negative\")\n",
        "        self._value = new_value\n",
        "\n",
        "    @value.deleter\n",
        "    def value(self):\n",
        "        del self._value\n",
        "\n",
        "obj = MyClass(10)\n",
        "print(obj.value)\n",
        "\n",
        "obj.value = 20\n",
        "print(obj.value)\n",
        "\n",
        "try:\n",
        "    obj.value = -5\n",
        "except ValueError as e:\n",
        "    print(e)\n",
        "\n",
        "del obj.value"
      ],
      "metadata": {
        "colab": {
          "base_uri": "https://localhost:8080/"
        },
        "id": "Wwq-p2fph2-b",
        "outputId": "7de9e345-76d5-4ad7-f54b-ae546b4caee5"
      },
      "execution_count": 21,
      "outputs": [
        {
          "output_type": "stream",
          "name": "stdout",
          "text": [
            "10\n",
            "20\n",
            "Value must be non-negative\n"
          ]
        }
      ]
    },
    {
      "cell_type": "code",
      "source": [
        "#Question14 Why is polymorphism important in OOP?\n",
        "\n",
        "#Answer Polymorphism is important in Object-Oriented Programming (OOP) because it allows for flexibility and scalability in code design. Here are a few key reasons why it's important:\n",
        "\n",
        "# Code Reusability\n",
        "## Flexibility\n",
        "### Maintainability\n",
        "#### Simplification"
      ],
      "metadata": {
        "id": "dBm8448sifzv"
      },
      "execution_count": null,
      "outputs": []
    },
    {
      "cell_type": "code",
      "source": [
        "#Question15 What is an abstract class in Python?\n",
        "\n",
        "#Answer An abstract class in Python is a blueprint for other classes, defined using the abc module. It can't be instantiated directly and includes abstract methods that child classes must implement.\n",
        "\n",
        "from abc import ABC, abstractmethod\n",
        "\n",
        "class Animal(ABC):\n",
        "    @abstractmethod\n",
        "    def speak(self):\n",
        "        pass\n",
        "\n",
        "class Dog(Animal):\n",
        "    def speak(self):\n",
        "        return \"Woof!\"\n",
        "\n",
        "class Cat(Animal):\n",
        "    def speak(self):\n",
        "        return \"Meow!\"\n",
        "\n",
        "dog = Dog()\n",
        "cat = Cat()\n",
        "\n",
        "print(dog.speak())\n",
        "print(cat.speak())"
      ],
      "metadata": {
        "colab": {
          "base_uri": "https://localhost:8080/"
        },
        "id": "RXsp91nkjOCz",
        "outputId": "feff8bb3-898d-4c91-f4b7-07fc25445705"
      },
      "execution_count": 22,
      "outputs": [
        {
          "output_type": "stream",
          "name": "stdout",
          "text": [
            "Woof!\n",
            "Meow!\n"
          ]
        }
      ]
    },
    {
      "cell_type": "code",
      "source": [
        "#Question16 What are the advantages of OOP?\n",
        "\n",
        "#Answer Object-Oriented Programming enhances modularity, code reusability, abstraction, and encapsulation while promoting flexibility, maintainability, and scalability. Its advantages make it ideal for developing complex, large-scale applications that are easier to maintain, extend, and understand."
      ],
      "metadata": {
        "id": "-VqNcq_0jOBr"
      },
      "execution_count": null,
      "outputs": []
    },
    {
      "cell_type": "code",
      "source": [
        "#Question17 What is the difference between a class variable and an instance variable?\n",
        "\n",
        "#Answer Class variables are shared across all instances of the class and are used for data that should be common to all instances.\n",
        "\n",
        "# Instance variables are specific to each instance of the class and hold data unique to that particular object.\n",
        "\n",
        "class MyClass:\n",
        "    class_variable = 0  # Class variable\n",
        "\n",
        "    def __init__(self, value):\n",
        "        self.instance_variable = value  # Instance variable\n",
        "\n",
        "obj1 = MyClass(10)\n",
        "obj2 = MyClass(20)\n",
        "\n",
        "# Accessing variables\n",
        "print(MyClass.class_variable)\n",
        "print(obj1.instance_variable)\n",
        "print(obj2.instance_variable)\n"
      ],
      "metadata": {
        "colab": {
          "base_uri": "https://localhost:8080/"
        },
        "id": "qQ_wSVKikHgq",
        "outputId": "9d53b521-e79b-4901-da0d-3eef5ea9be84"
      },
      "execution_count": 23,
      "outputs": [
        {
          "output_type": "stream",
          "name": "stdout",
          "text": [
            "0\n",
            "10\n",
            "20\n"
          ]
        }
      ]
    },
    {
      "cell_type": "code",
      "source": [
        "#Question18 What is multiple inheritance in Python?\n",
        "\n",
        "#Answer Multiple inheritance in Python is a feature that allows a class to inherit attributes and methods from more than one parent class. This can be useful for combining behaviors from different classes into a single class.\n",
        "\n",
        "# Multiple Parent Classes: A subclass can have multiple parent classes.\n",
        "\n",
        "# Combined Behavior: The subclass inherits attributes and methods from all its parent classes.\n",
        "\n",
        "class Parent1:\n",
        "    def method1(self):\n",
        "        print(\"Method from Parent1\")\n",
        "\n",
        "class Parent2:\n",
        "    def method2(self):\n",
        "        print(\"Method from Parent2\")\n",
        "\n",
        "class Child(Parent1, Parent2):\n",
        "    def method3(self):\n",
        "        print(\"Method from Child\")\n",
        "\n",
        "# Creating an instance of Child\n",
        "child = Child()\n",
        "\n",
        "# Accessing methods from Parent1, Parent2, and Child\n",
        "child.method1()\n",
        "child.method2()\n",
        "child.method3()\n",
        "\n",
        "\n",
        "# The Child class inherits from both Parent1 and Parent2.\n",
        "# It can access methods from both parents (like method1() from Parent1 and method2() from Parent2), and also define its own methods (like method3())."
      ],
      "metadata": {
        "colab": {
          "base_uri": "https://localhost:8080/"
        },
        "id": "56xY7ZoVlrFr",
        "outputId": "b351396c-9abc-4894-c6a5-059b05c23e3e"
      },
      "execution_count": 25,
      "outputs": [
        {
          "output_type": "stream",
          "name": "stdout",
          "text": [
            "Method from Parent1\n",
            "Method from Parent2\n",
            "Method from Child\n"
          ]
        }
      ]
    },
    {
      "cell_type": "code",
      "source": [
        "#Question19 Explain the purpose of ‘’__str__’ and ‘__repr__’ ‘ methods in Python.\n",
        "\n",
        "#Answer __str__ Method:\n",
        "# Purpose: Provides a readable, informal string representation of an object.\n",
        "\n",
        "# Usage: Called by str() and print().\n",
        "\n",
        "class MyClass:\n",
        "    def __init__(self, value):\n",
        "        self.value = value\n",
        "\n",
        "    def __str__(self):\n",
        "        return f\"MyClass with value {self.value}\"\n",
        "\n",
        "obj = MyClass(10)\n",
        "print(obj)\n",
        "\n",
        "# __repr__ Method:\n",
        "# Purpose: Provides an unambiguous, official string representation of an object.\n",
        "\n",
        "# Usage: Called by repr() and in the interactive shell.\n",
        "\n",
        "class MyClass:\n",
        "    def __init__(self, value):\n",
        "        self.value = value\n",
        "\n",
        "    def __repr__(self):\n",
        "        return f\"MyClass({self.value})\"\n",
        "\n",
        "obj = MyClass(10)\n",
        "repr(obj)\n"
      ],
      "metadata": {
        "colab": {
          "base_uri": "https://localhost:8080/",
          "height": 53
        },
        "id": "u8Uv5_m4m-Yb",
        "outputId": "7994a052-3f68-4bb6-8d3e-c0d8004e5eea"
      },
      "execution_count": 26,
      "outputs": [
        {
          "output_type": "stream",
          "name": "stdout",
          "text": [
            "MyClass with value 10\n"
          ]
        },
        {
          "output_type": "execute_result",
          "data": {
            "text/plain": [
              "'MyClass(10)'"
            ],
            "application/vnd.google.colaboratory.intrinsic+json": {
              "type": "string"
            }
          },
          "metadata": {},
          "execution_count": 26
        }
      ]
    },
    {
      "cell_type": "code",
      "source": [
        "#Question20 What is the significance of the ‘super()’ function in Python?\n",
        "\n",
        "#Answer The super() function in Python is used to call methods or access attributes from a parent class in a child class. It's especially useful when you're working with inheritance, and you want to extend or modify the behavior of a parent class method without completely overriding it.\n",
        "\n",
        "# Significance:\n",
        "\n",
        "# Access Parent Methods: Allows access to parent class methods, enabling you to extend or modify their behavior.\n",
        "\n",
        "# Multiple Inheritance: Helps resolve the method resolution order (MRO) in multiple inheritance situations.\n",
        "\n",
        "# Avoid Hardcoding: Makes code more maintainable by avoiding hardcoding of parent class names."
      ],
      "metadata": {
        "id": "llfSjNqKn75D"
      },
      "execution_count": null,
      "outputs": []
    },
    {
      "cell_type": "code",
      "source": [
        "#Question21 What is the significance of the __del__ method in Python?\n",
        "\n",
        "#Answer The __del__ method in Python, also known as a destructor, is called when an object is about to be destroyed. It allows you to define custom cleanup behavior, such as releasing resources or closing files, before the object is garbage collected.\n",
        "\n",
        "# Significance:\n",
        "# Resource Management: Helps clean up resources like files or network connections.\n",
        "\n",
        "# Memory Management: Ensures that resources are properly released, preventing memory leaks.\n",
        "\n",
        "# Finalization: Provides a way to define actions that should occur just before an object is destroyed.\n",
        "class MyClass:\n",
        "    def __init__(self, value):\n",
        "        self.value = value\n",
        "        print(f\"Object created with value {self.value}\")\n",
        "\n",
        "    def __del__(self):\n",
        "        print(f\"Object with value {self.value} is being destroyed\")\n",
        "\n",
        "# Creating and deleting an instance of MyClass\n",
        "obj = MyClass(10)\n",
        "del obj\n"
      ],
      "metadata": {
        "colab": {
          "base_uri": "https://localhost:8080/"
        },
        "id": "auNb0jfAor__",
        "outputId": "77e4d078-e926-4e5a-b4d3-8fe18d067ae6"
      },
      "execution_count": 27,
      "outputs": [
        {
          "output_type": "stream",
          "name": "stdout",
          "text": [
            "Object created with value 10\n",
            "Object with value 10 is being destroyed\n"
          ]
        }
      ]
    },
    {
      "cell_type": "code",
      "source": [
        "#Question22  What is the difference between @staticmethod and @classmethod in Python?\n",
        "\n",
        "#Answer @staticmethod vs. @classmethod\n",
        "# Both @staticmethod and @classmethod are decorators used to define methods within a class, but they serve different purposes.\n",
        "\n",
        "## @staticmethod\n",
        "# Purpose: Defines a method that does not operate on an instance or class. It behaves like a regular function but belongs to the class's namespace.\n",
        "\n",
        "# Usage: No access to instance (self) or class (cls) variables/methods.\n",
        "\n",
        "class MyClass:\n",
        "    @staticmethod\n",
        "    def static_method():\n",
        "        return \"This is a static method\"\n",
        "\n",
        "print(MyClass.static_method())\n",
        "\n",
        "##@classmethod\n",
        "# Purpose: Defines a method that operates on the class itself, rather than an instance. It has access to class variables and methods.\n",
        "\n",
        "# Usage: Takes cls as the first parameter, which refers to the class.\n",
        "\n",
        "class MyClass:\n",
        "    class_variable = \"Class variable\"\n",
        "\n",
        "    @classmethod\n",
        "    def class_method(cls):\n",
        "        return f\"This is a class method accessing {cls.class_variable}\"\n",
        "\n",
        "print(MyClass.class_method())"
      ],
      "metadata": {
        "colab": {
          "base_uri": "https://localhost:8080/"
        },
        "id": "cxFGp1rQp9Fg",
        "outputId": "ddcb45b0-af2c-44f1-c301-d4cad2cf9550"
      },
      "execution_count": 28,
      "outputs": [
        {
          "output_type": "stream",
          "name": "stdout",
          "text": [
            "This is a static method\n",
            "This is a class method accessing Class variable\n"
          ]
        }
      ]
    },
    {
      "cell_type": "code",
      "source": [
        "#Question23 How does polymorphism work in Python with inheritance?\n",
        "\n",
        "#Answer Polymorphism in Python allows objects of different classes to be treated as objects of a common superclass. This lets you write flexible and scalable code. When combined with inheritance, polymorphism becomes powerful because it enables a single interface to be used for different data types.\n",
        "\n",
        "# How It Works:\n",
        "\n",
        "# Common Interface: Polymorphism relies on a common interface provided by a superclass.\n",
        "\n",
        "# Method Overriding: Subclasses override methods from the superclass to offer specific behavior.\n",
        "\n",
        "# Dynamic Method Binding: At runtime, the method call is bound to the specific implementation based on the object's class.\n",
        "\n",
        "class Animal:\n",
        "    def speak(self):\n",
        "        raise NotImplementedError(\"Subclasses must implement this method\")\n",
        "\n",
        "class Dog(Animal):\n",
        "    def speak(self):\n",
        "        return \"Woof!\"\n",
        "\n",
        "class Cat(Animal):\n",
        "    def speak(self):\n",
        "        return \"Meow!\"\n",
        "\n",
        "def make_animal_speak(animal):\n",
        "    print(animal.speak())\n",
        "\n",
        "dog = Dog()\n",
        "cat = Cat()\n",
        "\n",
        "make_animal_speak(dog)\n",
        "make_animal_speak(cat)"
      ],
      "metadata": {
        "colab": {
          "base_uri": "https://localhost:8080/"
        },
        "id": "ECOIuqgiqXic",
        "outputId": "caee6d59-927e-40c4-f5fe-4a28faee29fc"
      },
      "execution_count": 29,
      "outputs": [
        {
          "output_type": "stream",
          "name": "stdout",
          "text": [
            "Woof!\n",
            "Meow!\n"
          ]
        }
      ]
    },
    {
      "cell_type": "code",
      "source": [
        "#Question24 What is method chaining in Python OOP?\n",
        "\n",
        "#Answer Method chaining in Python OOP lets you call multiple methods on the same object in a single line. This is done by having each method return the object itself (self), making the code more concise and readable.\n",
        "\n",
        "class MyClass:\n",
        "    def __init__(self, value):\n",
        "        self.value = value\n",
        "\n",
        "    def add(self, amount):\n",
        "        self.value += amount\n",
        "        return self\n",
        "\n",
        "    def multiply(self, factor):\n",
        "        self.value *= factor\n",
        "        return self\n",
        "\n",
        "    def display(self):\n",
        "        print(f\"Value: {self.value}\")\n",
        "        return self\n",
        "\n",
        "# Using method chaining\n",
        "obj = MyClass(10)\n",
        "obj.add(5).multiply(2).display()"
      ],
      "metadata": {
        "colab": {
          "base_uri": "https://localhost:8080/"
        },
        "id": "Z0g2wFI9q9Cm",
        "outputId": "02ca5560-c2be-48a3-dcec-9d819a48231f"
      },
      "execution_count": 33,
      "outputs": [
        {
          "output_type": "stream",
          "name": "stdout",
          "text": [
            "Value: 30\n"
          ]
        },
        {
          "output_type": "execute_result",
          "data": {
            "text/plain": [
              "<__main__.MyClass at 0x7991181ae410>"
            ]
          },
          "metadata": {},
          "execution_count": 33
        }
      ]
    },
    {
      "cell_type": "code",
      "source": [
        "#Question25 What is the purpose of the __call__ method in Python?\n",
        "\n",
        "#Answer The __call__ method in Python lets you make an object behave like a function. This means you can \"call\" an instance of a class just like you'd call a regular function, adding flexibility to your code.\n",
        "\n",
        "# Purpose:\n",
        "\n",
        "# Function-Like Behavior: Makes objects act like functions.\n",
        "\n",
        "# Custom Callable Objects: Lets you define what happens when the object is called.\n",
        "\n",
        "class MyCallable:\n",
        "    def __init__(self, value):\n",
        "        self.value = value\n",
        "\n",
        "    def __call__(self, increment):\n",
        "        self.value += increment\n",
        "        return self.value\n",
        "\n",
        "# Creating an instance of MyCallable\n",
        "obj = MyCallable(10)\n",
        "\n",
        "# Calling the instance like a function\n",
        "print(obj(5))\n",
        "print(obj(3))"
      ],
      "metadata": {
        "colab": {
          "base_uri": "https://localhost:8080/"
        },
        "id": "FjNLVjMLrtaL",
        "outputId": "c6d4e8be-5492-48de-ddcc-1aa37c40cc20"
      },
      "execution_count": 34,
      "outputs": [
        {
          "output_type": "stream",
          "name": "stdout",
          "text": [
            "15\n",
            "18\n"
          ]
        }
      ]
    },
    {
      "cell_type": "markdown",
      "source": [
        "Practical Questions"
      ],
      "metadata": {
        "id": "F2GLiK-jsRg3"
      }
    },
    {
      "cell_type": "code",
      "source": [
        "#Question1 Create a parent class Animal with a method speak() that prints a generic message. Create a child class Dog that overrides the speak() method to print \"Bark!\".\n",
        "\n",
        "#Answer\n",
        "class Animal:\n",
        "    def speak(self):\n",
        "        print(\"This is a generic animal sound.\")\n",
        "\n",
        "class Dog(Animal):\n",
        "    def speak(self):\n",
        "        print(\"Bark!\")\n",
        "\n",
        "# Creating instances\n",
        "animal = Animal()\n",
        "dog = Dog()\n",
        "\n",
        "animal.speak()\n",
        "dog.speak()"
      ],
      "metadata": {
        "colab": {
          "base_uri": "https://localhost:8080/"
        },
        "id": "cLqCwnmMsZLn",
        "outputId": "77675727-9685-43c9-fe1f-a5222ff0cf0f"
      },
      "execution_count": 35,
      "outputs": [
        {
          "output_type": "stream",
          "name": "stdout",
          "text": [
            "This is a generic animal sound.\n",
            "Bark!\n"
          ]
        }
      ]
    },
    {
      "cell_type": "code",
      "source": [
        "#Question2  Write a program to create an abstract class Shape with a method area(). Derive classes Circle and Rectangle from it and implement the area() method in both.\n",
        "\n",
        "#Answer\n",
        "from abc import ABC, abstractmethod\n",
        "import math\n",
        "\n",
        "# Abstract class\n",
        "class Shape(ABC):\n",
        "    @abstractmethod\n",
        "    def area(self):\n",
        "        pass\n",
        "\n",
        "# Circle class\n",
        "class Circle(Shape):\n",
        "    def __init__(self, radius):\n",
        "        self.radius = radius\n",
        "\n",
        "    def area(self):\n",
        "        return math.pi * self.radius * self.radius\n",
        "\n",
        "# Rectangle class\n",
        "class Rectangle(Shape):\n",
        "    def __init__(self, width, height):\n",
        "        self.width = width\n",
        "        self.height = height\n",
        "\n",
        "    def area(self):\n",
        "        return self.width * self.height\n",
        "\n",
        "# Creating objects of Circle and Rectangle\n",
        "circle = Circle(5)\n",
        "rectangle = Rectangle(4, 6)\n",
        "\n",
        "# Displaying the areas\n",
        "print(f\"Area of Circle: {circle.area()}\")\n",
        "print(f\"Area of Rectangle: {rectangle.area()}\")\n"
      ],
      "metadata": {
        "colab": {
          "base_uri": "https://localhost:8080/"
        },
        "id": "xcGU8ySUtP11",
        "outputId": "beabcbf8-3c04-402b-e625-fc2de707f5cd"
      },
      "execution_count": 36,
      "outputs": [
        {
          "output_type": "stream",
          "name": "stdout",
          "text": [
            "Area of Circle: 78.53981633974483\n",
            "Area of Rectangle: 24\n"
          ]
        }
      ]
    },
    {
      "cell_type": "code",
      "source": [
        "#Question3  Implement a multi-level inheritance scenario where a class Vehicle has an attribute type. Derive a class Car and further derive a class ElectricCar that adds a battery attribute.\n",
        "\n",
        "#Answer\n",
        "# Parent class\n",
        "class Vehicle:\n",
        "    def __init__(self, vehicle_type):\n",
        "        self.vehicle_type = vehicle_type\n",
        "\n",
        "# Derived class\n",
        "class Car(Vehicle):\n",
        "    def __init__(self, vehicle_type, brand):\n",
        "        super().__init__(vehicle_type)\n",
        "        self.brand = brand\n",
        "\n",
        "# Further derived class\n",
        "class ElectricCar(Car):\n",
        "    def __init__(self, vehicle_type, brand, battery_capacity):\n",
        "        super().__init__(vehicle_type, brand)\n",
        "        self.battery_capacity = battery_capacity\n",
        "\n",
        "# Creating instances\n",
        "vehicle = Vehicle(\"General Vehicle\")\n",
        "car = Car(\"Car\", \"Toyota\")\n",
        "electric_car = ElectricCar(\"Electric Car\", \"Tesla\", \"75 kWh\")\n",
        "\n",
        "# Displaying attributes\n",
        "print(f\"Vehicle type: {vehicle.vehicle_type}\")\n",
        "print(f\"Car brand: {car.brand}, Vehicle type: {car.vehicle_type}\")\n",
        "print(f\"Electric Car brand: {electric_car.brand}, Vehicle type: {electric_car.vehicle_type}, Battery: {electric_car.battery_capacity}\")"
      ],
      "metadata": {
        "colab": {
          "base_uri": "https://localhost:8080/"
        },
        "id": "MkRZlNqEtjnq",
        "outputId": "8875f770-36ca-42fb-b4fc-a731ce6703b9"
      },
      "execution_count": 37,
      "outputs": [
        {
          "output_type": "stream",
          "name": "stdout",
          "text": [
            "Vehicle type: General Vehicle\n",
            "Car brand: Toyota, Vehicle type: Car\n",
            "Electric Car brand: Tesla, Vehicle type: Electric Car, Battery: 75 kWh\n"
          ]
        }
      ]
    },
    {
      "cell_type": "code",
      "source": [
        "#Question4 is repeated"
      ],
      "metadata": {
        "id": "fUz30nA-t7t4"
      },
      "execution_count": null,
      "outputs": []
    },
    {
      "cell_type": "code",
      "source": [
        "#Question5  Write a program to demonstrate encapsulation by creating a class BankAccount with private attributes balance and methods to deposit, withdraw, and check balance.\n",
        "\n",
        "#Answer\n",
        "class BankAccount:\n",
        "    def __init__(self, initial_balance=0):\n",
        "        self.__balance = initial_balance\n",
        "\n",
        "    def deposit(self, amount):\n",
        "        self.__balance += amount\n",
        "\n",
        "    def withdraw(self, amount):\n",
        "        self.__balance -= amount\n",
        "\n",
        "    def get_balance(self):\n",
        "        return self.__balance\n",
        "\n",
        "# Using the BankAccount class\n",
        "account = BankAccount(100)\n",
        "account.deposit(50)\n",
        "account.withdraw(30)\n",
        "print(account.get_balance())"
      ],
      "metadata": {
        "colab": {
          "base_uri": "https://localhost:8080/"
        },
        "id": "corqvYh7uKqS",
        "outputId": "b2050ce9-d0c6-4305-ebda-86a5f218db6f"
      },
      "execution_count": 38,
      "outputs": [
        {
          "output_type": "stream",
          "name": "stdout",
          "text": [
            "120\n"
          ]
        }
      ]
    },
    {
      "cell_type": "code",
      "source": [
        "#Question6 Demonstrate runtime polymorphism using a method play() in a base class Instrument. Derive classes Guitar and Piano that implement their own version of play().\n",
        "\n",
        "#Answer\n",
        "class Instrument:\n",
        "    def play(self):\n",
        "        pass\n",
        "\n",
        "# Derived class Guitar\n",
        "class Guitar(Instrument):\n",
        "    def play(self):\n",
        "        print(\"Playing the Guitar!\")\n",
        "\n",
        "# Derived class Piano\n",
        "class Piano(Instrument):\n",
        "    def play(self):\n",
        "        print(\"Playing the Piano!\")\n",
        "\n",
        "# Creating objects of Guitar and Piano\n",
        "instrument1 = Guitar()\n",
        "instrument2 = Piano()\n",
        "\n",
        "# Demonstrating runtime polymorphism\n",
        "def make_sound(instrument):\n",
        "    instrument.play()\n",
        "\n",
        "make_sound(instrument1)\n",
        "make_sound(instrument2)"
      ],
      "metadata": {
        "colab": {
          "base_uri": "https://localhost:8080/"
        },
        "id": "XBWk4C5cuca9",
        "outputId": "6d49d188-f400-4733-b1db-b3b4732ecb87"
      },
      "execution_count": 39,
      "outputs": [
        {
          "output_type": "stream",
          "name": "stdout",
          "text": [
            "Playing the Guitar!\n",
            "Playing the Piano!\n"
          ]
        }
      ]
    },
    {
      "cell_type": "code",
      "source": [
        "#Question7  Create a class MathOperations with a class method add_numbers() to add two numbers and a static method subtract_numbers() to subtract two numbers.\n",
        "\n",
        "#Answer\n",
        "class MathOperations:\n",
        "    @classmethod\n",
        "    def add_numbers(cls, a, b):\n",
        "        return a + b\n",
        "\n",
        "    @staticmethod\n",
        "    def subtract_numbers(a, b):\n",
        "        return a - b\n",
        "\n",
        "# Using the MathOperations class\n",
        "print(MathOperations.add_numbers(5, 3))\n",
        "print(MathOperations.subtract_numbers(5, 3))"
      ],
      "metadata": {
        "colab": {
          "base_uri": "https://localhost:8080/"
        },
        "id": "6qjyknvYu1-n",
        "outputId": "28bafd20-e673-4b93-e6db-e5779c2d5bff"
      },
      "execution_count": 40,
      "outputs": [
        {
          "output_type": "stream",
          "name": "stdout",
          "text": [
            "8\n",
            "2\n"
          ]
        }
      ]
    },
    {
      "cell_type": "code",
      "source": [
        "#Question8 . Implement a class Person with a class method to count the total number of persons created.\n",
        "\n",
        "#Answer\n",
        "\n",
        "class Person:\n",
        "    count = 0  # Class attribute to keep track of the number of persons\n",
        "\n",
        "    def __init__(self, name):\n",
        "        self.name = name\n",
        "        Person.count += 1\n",
        "\n",
        "    @classmethod\n",
        "    def get_person_count(cls):\n",
        "        return cls.count\n",
        "\n",
        "# Creating instances of Person\n",
        "person1 = Person(\"ram\")\n",
        "person2 = Person(\"shyam\")\n",
        "\n",
        "print(Person.get_person_count())\n"
      ],
      "metadata": {
        "colab": {
          "base_uri": "https://localhost:8080/"
        },
        "id": "gf7r-OyNvZeD",
        "outputId": "07b4a956-9ef7-4de4-c389-7c635f8858b2"
      },
      "execution_count": 44,
      "outputs": [
        {
          "output_type": "stream",
          "name": "stdout",
          "text": [
            "2\n"
          ]
        }
      ]
    },
    {
      "cell_type": "code",
      "source": [
        "#Question9  Write a class Fraction with attributes numerator and denominator. Override the str method to display the fraction as \"numerator/denominator\".\n",
        "\n",
        "#Answer\n",
        "class Fraction:\n",
        "    def __init__(self, numerator, denominator):\n",
        "        self.numerator = numerator\n",
        "        self.denominator = denominator\n",
        "\n",
        "    def __str__(self):\n",
        "        return f\"{self.numerator}/{self.denominator}\"\n",
        "\n",
        "fraction = Fraction(3, 4)\n",
        "print(fraction)"
      ],
      "metadata": {
        "colab": {
          "base_uri": "https://localhost:8080/"
        },
        "id": "7s_ijY6PwFVQ",
        "outputId": "695181b9-8192-4c6d-ce14-8e02aeaab78b"
      },
      "execution_count": 45,
      "outputs": [
        {
          "output_type": "stream",
          "name": "stdout",
          "text": [
            "3/4\n"
          ]
        }
      ]
    },
    {
      "cell_type": "code",
      "source": [
        "#Question10  Demonstrate operator overloading by creating a class Vector and overriding the add method to add two vectors.\n",
        "\n",
        "#Answer\n",
        "class Vector:\n",
        "    def __init__(self, x, y):\n",
        "        self.x = x\n",
        "        self.y = y\n",
        "\n",
        "    def __add__(self, other):\n",
        "        return Vector(self.x + other.x, self.y + other.y)\n",
        "\n",
        "    def __str__(self):\n",
        "        return f\"Vector({self.x}, {self.y})\"\n",
        "\n",
        "# Creating instances of Vector\n",
        "v1 = Vector(2, 3)\n",
        "v2 = Vector(4, 5)\n",
        "\n",
        "# Adding two vectors using the overloaded + operator\n",
        "v3 = v1 + v2\n",
        "\n",
        "print(v3)"
      ],
      "metadata": {
        "colab": {
          "base_uri": "https://localhost:8080/"
        },
        "id": "BDswEDzVwhy6",
        "outputId": "a2ae4499-d51d-4b71-9f87-786146a1616e"
      },
      "execution_count": 46,
      "outputs": [
        {
          "output_type": "stream",
          "name": "stdout",
          "text": [
            "Vector(6, 8)\n"
          ]
        }
      ]
    },
    {
      "cell_type": "code",
      "source": [
        "#Question 11 Create a class Person with attributes name and age. Add a method greet() that prints \"Hello, my name is {name} and I am {age} years old.\n",
        "\n",
        "#Answer\n",
        "class Person:\n",
        "    def __init__(self, name, age):\n",
        "        self.name = name\n",
        "        self.age = age\n",
        "\n",
        "    def greet(self):\n",
        "        print(f\"Hello, my name is {self.name} and I am {self.age} years old.\")\n",
        "\n",
        "# Creating an instance of Person\n",
        "person = Person(\"Raj\", 30)\n",
        "person.greet()"
      ],
      "metadata": {
        "colab": {
          "base_uri": "https://localhost:8080/"
        },
        "id": "HYOsFwqlw4bN",
        "outputId": "819c3b97-9ee8-4ce8-871d-aef30f909aef"
      },
      "execution_count": 47,
      "outputs": [
        {
          "output_type": "stream",
          "name": "stdout",
          "text": [
            "Hello, my name is Raj and I am 30 years old.\n"
          ]
        }
      ]
    },
    {
      "cell_type": "code",
      "source": [
        "#Question12  Implement a class Student with attributes name and grades. Create a method average_grade() to compute the average of the grades.\n",
        "\n",
        "#Answer\n",
        "\n",
        "class Student:\n",
        "    def __init__(self, name, grades):\n",
        "        self.name = name\n",
        "        self.grades = grades\n",
        "\n",
        "    def average_grade(self):\n",
        "        return sum(self.grades) / len(self.grades)\n",
        "\n",
        "student = Student(\"Golu\", [85, 90, 78, 92, 88])\n",
        "\n",
        "print(f\"{student.name}'s average grade: {student.average_grade()}\")"
      ],
      "metadata": {
        "colab": {
          "base_uri": "https://localhost:8080/"
        },
        "id": "GMu-A4JtxOeX",
        "outputId": "2804d8a5-ddde-482a-912f-8f6b67f50471"
      },
      "execution_count": 50,
      "outputs": [
        {
          "output_type": "stream",
          "name": "stdout",
          "text": [
            "Golu's average grade: 86.6\n"
          ]
        }
      ]
    },
    {
      "cell_type": "code",
      "source": [
        "#Question13  Create a class Rectangle with methods set_dimensions() to set the dimensions and area() to calculate the area.\n",
        "\n",
        "#Answer\n",
        "class Rectangle:\n",
        "    def __init__(self):\n",
        "        self.length = 0\n",
        "        self.width = 0\n",
        "\n",
        "    # Method to set dimensions of the rectangle\n",
        "    def set_dimensions(self, length, width):\n",
        "        self.length = length\n",
        "        self.width = width\n",
        "\n",
        "    # Method to calculate the area of the rectangle\n",
        "    def area(self):\n",
        "        return self.length * self.width\n",
        "\n",
        "# Create an object of Rectangle\n",
        "rect = Rectangle()\n",
        "\n",
        "# Set the dimensions of the rectangle\n",
        "rect.set_dimensions(5, 3)\n",
        "\n",
        "# Calculate and print the area\n",
        "print(\"Area of the rectangle:\", rect.area())"
      ],
      "metadata": {
        "colab": {
          "base_uri": "https://localhost:8080/"
        },
        "id": "Xjj4hRXrxmk5",
        "outputId": "f6d0b1e2-e6df-4c8c-d5fd-9412b6b836ba"
      },
      "execution_count": 51,
      "outputs": [
        {
          "output_type": "stream",
          "name": "stdout",
          "text": [
            "Area of the rectangle: 15\n"
          ]
        }
      ]
    },
    {
      "cell_type": "code",
      "source": [
        "#Question14  Create a class Employee with a method calculate_salary() that computes the salary based on hours worked and hourly rate. Create a derived class Manager that adds a bonus to the salary\n",
        "\n",
        "#Answer\n",
        "# Parent class\n",
        "class Employee:\n",
        "    def __init__(self, hours_worked, hourly_rate):\n",
        "        self.hours_worked = hours_worked\n",
        "        self.hourly_rate = hourly_rate\n",
        "\n",
        "    def calculate_salary(self):\n",
        "        return self.hours_worked * self.hourly_rate\n",
        "\n",
        "# Derived class\n",
        "class Manager(Employee):\n",
        "    def __init__(self, hours_worked, hourly_rate, bonus):\n",
        "        super().__init__(hours_worked, hourly_rate)\n",
        "        self.bonus = bonus\n",
        "\n",
        "    def calculate_salary(self):\n",
        "        base_salary = super().calculate_salary()\n",
        "        return base_salary + self.bonus\n",
        "\n",
        "# Creating an Employee object\n",
        "employee = Employee(40, 15)\n",
        "print(\"Employee Salary:\", employee.calculate_salary())\n",
        "\n",
        "# Creating a Manager object\n",
        "manager = Manager(40, 20, 500)\n",
        "print(\"Manager Salary:\", manager.calculate_salary())"
      ],
      "metadata": {
        "colab": {
          "base_uri": "https://localhost:8080/"
        },
        "id": "lAqKz1xHx_QV",
        "outputId": "8f3cf532-d3d1-488d-b3a8-afa9e4cdfa27"
      },
      "execution_count": 52,
      "outputs": [
        {
          "output_type": "stream",
          "name": "stdout",
          "text": [
            "Employee Salary: 600\n",
            "Manager Salary: 1300\n"
          ]
        }
      ]
    },
    {
      "cell_type": "code",
      "source": [
        "#Question15 Create a class Product with attributes name, price, and quantity. Implement a method total_price() that calculates the total price of the product.\n",
        "\n",
        "#Answer\n",
        "class Product:\n",
        "    def __init__(self, name, price, quantity):\n",
        "        self.name = name\n",
        "        self.price = price  # Price in INR\n",
        "        self.quantity = quantity\n",
        "\n",
        "    def total_price(self):\n",
        "        return self.price * self.quantity\n",
        "\n",
        "# Creating an instance of Product\n",
        "product = Product(\"Laptop\", 75000, 3)\n",
        "\n",
        "# Calculating the total price\n",
        "print(f\"The total price of {product.quantity} {product.name}(s) is: ₹{product.total_price()}\")  # Output: The total price of 3 Laptop(s) is: ₹225000\n"
      ],
      "metadata": {
        "colab": {
          "base_uri": "https://localhost:8080/"
        },
        "id": "n9j8Ps27yYev",
        "outputId": "03054834-cbb8-47d5-f35a-09bdd2c8c69c"
      },
      "execution_count": 54,
      "outputs": [
        {
          "output_type": "stream",
          "name": "stdout",
          "text": [
            "The total price of 3 Laptop(s) is: ₹225000\n"
          ]
        }
      ]
    },
    {
      "cell_type": "code",
      "source": [
        "#Question16  Create a class Animal with an abstract method sound(). Create two derived classes Cow and Sheep that implement the sound() method.\n",
        "\n",
        "#Answer\n",
        "\n",
        "from abc import ABC, abstractmethod\n",
        "\n",
        "# Abstract class\n",
        "class Animal(ABC):\n",
        "    @abstractmethod\n",
        "    def sound(self):\n",
        "        pass\n",
        "\n",
        "# Derived class for Cow\n",
        "class Cow(Animal):\n",
        "    def sound(self):\n",
        "        print(\"Moo\")\n",
        "\n",
        "# Derived class for Sheep\n",
        "class Sheep(Animal):\n",
        "    def sound(self):\n",
        "        print(\"Baa\")\n",
        "\n",
        "# Creating instances\n",
        "cow = Cow()\n",
        "sheep = Sheep()\n",
        "\n",
        "# Calling the sound method\n",
        "cow.sound()\n",
        "sheep.sound()"
      ],
      "metadata": {
        "colab": {
          "base_uri": "https://localhost:8080/"
        },
        "id": "g5sp1K92y1J7",
        "outputId": "2eae4875-d790-4fa2-80d8-782b6f2aaa58"
      },
      "execution_count": 55,
      "outputs": [
        {
          "output_type": "stream",
          "name": "stdout",
          "text": [
            "Moo\n",
            "Baa\n"
          ]
        }
      ]
    },
    {
      "cell_type": "code",
      "source": [
        "#Question17 Create a class Book with attributes title, author, and year_published. Add a method get_book_info() that returns a formatted string with the book's details.\n",
        "\n",
        "#Answer\n",
        "class Book:\n",
        "    def __init__(self, title, author, year_published):\n",
        "        self.title = title\n",
        "        self.author = author\n",
        "        self.year_published = year_published\n",
        "\n",
        "    def get_book_info(self):\n",
        "        return f\"'{self.title}' by {self.author}, published in {self.year_published}\"\n",
        "\n",
        "# Example with an Indian writer and book name\n",
        "book = Book(\"The Blue Umbrella\", \"Ruskin Bond\", 1980)\n",
        "\n",
        "# Getting the book info\n",
        "print(book.get_book_info())"
      ],
      "metadata": {
        "colab": {
          "base_uri": "https://localhost:8080/"
        },
        "id": "P00MI9bpy1Iy",
        "outputId": "f6b043c5-358d-4953-c15e-922aa5c627d7"
      },
      "execution_count": 56,
      "outputs": [
        {
          "output_type": "stream",
          "name": "stdout",
          "text": [
            "'The Blue Umbrella' by Ruskin Bond, published in 1980\n"
          ]
        }
      ]
    },
    {
      "cell_type": "code",
      "source": [
        "#Question18  Create a class House with attributes address and price. Create a derived class Mansion that adds an attribute number_of_rooms.\n",
        "\n",
        "#Answer\n",
        "class House:\n",
        "    def __init__(self, address, price):\n",
        "        self.address = address\n",
        "        self.price = price\n",
        "\n",
        "class Mansion(House):\n",
        "    def __init__(self, address, price, number_of_rooms):\n",
        "        super().__init__(address, price)\n",
        "        self.number_of_rooms = number_of_rooms\n",
        "\n",
        "# Creating an instance of Mansion\n",
        "mansion = Mansion(\"123 Luxury Lane\", 5000000, 12)\n",
        "\n",
        "# Displaying the mansion details\n",
        "print(f\"Address: {mansion.address}\")\n",
        "print(f\"Price: ₹{mansion.price}\")\n",
        "print(f\"Number of Rooms: {mansion.number_of_rooms}\")\n"
      ],
      "metadata": {
        "colab": {
          "base_uri": "https://localhost:8080/"
        },
        "id": "mAozHbqTzfT2",
        "outputId": "b2789351-1826-4254-a655-70af0492aaea"
      },
      "execution_count": 57,
      "outputs": [
        {
          "output_type": "stream",
          "name": "stdout",
          "text": [
            "Address: 123 Luxury Lane\n",
            "Price: ₹5000000\n",
            "Number of Rooms: 12\n"
          ]
        }
      ]
    }
  ],
  "metadata": {
    "colab": {
      "name": "Welcome To Colab",
      "provenance": []
    },
    "kernelspec": {
      "display_name": "Python 3",
      "name": "python3"
    }
  },
  "nbformat": 4,
  "nbformat_minor": 0
}